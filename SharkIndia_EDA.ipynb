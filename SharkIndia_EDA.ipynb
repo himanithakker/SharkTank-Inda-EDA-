{
  "nbformat": 4,
  "nbformat_minor": 0,
  "metadata": {
    "colab": {
      "name": "SharkIndia EDA.ipynb",
      "provenance": []
    },
    "kernelspec": {
      "name": "python3",
      "display_name": "Python 3"
    },
    "language_info": {
      "name": "python"
    }
  },
  "cells": [
    {
      "cell_type": "code",
      "execution_count": 2,
      "metadata": {
        "id": "Z2K8qNKGX95S"
      },
      "outputs": [],
      "source": [
        "import numpy as np\n",
        "import pandas as pd \n",
        "import matplotlib.pyplot as plt \n",
        "import seaborn as sns \n",
        "from scipy.stats import norm\n",
        "from sklearn.preprocessing import StandardScaler \n",
        "from scipy import stats \n",
        "from babel.numbers import format_currency\n",
        "from wordcloud import WordCloud, STOPWORDS\n",
        "import warnings \n",
        "warnings.filterwarnings('ignore')\n",
        "import plotly.express as px \n",
        "import plotly.graph_objects as go\n",
        "import plotly.express as px \n",
        "\n",
        "\n"
      ]
    },
    {
      "cell_type": "code",
      "source": [
        "df1 = pd.read_csv('/content/Shark Tank India.csv')"
      ],
      "metadata": {
        "id": "vM3Jol8PZB5F"
      },
      "execution_count": 3,
      "outputs": []
    },
    {
      "cell_type": "code",
      "source": [
        "print(df1['Season Number'].max(), \"Season \\n\")\n",
        "print(df1['Episode Number'].max(), \"Episode \\n\")\n",
        "print(df1['Pitch Number'].max(), \"Startup companies pitching \\n\")\n",
        "print(df1['Episode Number'].value_counts().sort_values(ascending = True).unique())"
      ],
      "metadata": {
        "colab": {
          "base_uri": "https://localhost:8080/",
          "height": 0
        },
        "id": "WPkWXX7IaKHH",
        "outputId": "0b686674-f2a0-4d39-f897-d8f0bfd8ebfc"
      },
      "execution_count": 4,
      "outputs": [
        {
          "output_type": "stream",
          "name": "stdout",
          "text": [
            "1 Season \n",
            "\n",
            "36 Episode \n",
            "\n",
            "121 Startup companies pitching \n",
            "\n",
            "[3 4]\n"
          ]
        }
      ]
    },
    {
      "cell_type": "code",
      "source": [
        "df1.head()"
      ],
      "metadata": {
        "colab": {
          "base_uri": "https://localhost:8080/",
          "height": 647
        },
        "id": "lFWayus55IlR",
        "outputId": "1e48bf57-58df-4743-da0f-cdda3f62b6a6"
      },
      "execution_count": 7,
      "outputs": [
        {
          "output_type": "execute_result",
          "data": {
            "text/plain": [
              "   Season Number  Episode Number                Episode Title  Pitch Number  \\\n",
              "0              1               1  Badlegi Business Ki Tasveer             1   \n",
              "1              1               1  Badlegi Business Ki Tasveer             2   \n",
              "2              1               1  Badlegi Business Ki Tasveer             3   \n",
              "3              1               2      Insaan, Ideas Aur Sapne             4   \n",
              "4              1               2      Insaan, Ideas Aur Sapne             5   \n",
              "\n",
              "          Startup Name             Industry  \\\n",
              "0       BluePine Foods                 Food   \n",
              "1        Booz Scooters  Electrical Vehicles   \n",
              "2  Heart up my Sleeves       Beauty/Fashion   \n",
              "3           Tagz Foods                 Food   \n",
              "4       Head and Heart            Education   \n",
              "\n",
              "                            Business Description  \\\n",
              "0                                   Frozen Momos   \n",
              "1  Renting e-bike for mobility in private spaces   \n",
              "2                             Detachable Sleeves   \n",
              "3                    Healthy Potato Chips Snacks   \n",
              "4                       Brain Development Course   \n",
              "\n",
              "                 Company Website  Number of Presenters  Male Presenters  ...  \\\n",
              "0     https://bluepinefoods.com/                     3              2.0  ...   \n",
              "1        https://www.boozup.net/                     1              1.0  ...   \n",
              "2  https://heartupmysleeves.com/                     1              NaN  ...   \n",
              "3         https://tagzfoods.com/                     2              2.0  ...   \n",
              "4             https://thehnh.in/                     4              1.0  ...   \n",
              "\n",
              "   Aman Investment Amount  Aman Investment Equity Aman Debt Amount  \\\n",
              "0                    25.0                    5.33              NaN   \n",
              "1                     0.0                    0.00              NaN   \n",
              "2                     0.0                    0.00              NaN   \n",
              "3                     0.0                    0.00              NaN   \n",
              "4                     NaN                     NaN              NaN   \n",
              "\n",
              "   Peyush Investment Amount Peyush Investment Equity Peyush Debt Amount  \\\n",
              "0                       NaN                      NaN                NaN   \n",
              "1                       NaN                      NaN                NaN   \n",
              "2                       NaN                      NaN                NaN   \n",
              "3                       NaN                      NaN                NaN   \n",
              "4                       NaN                      NaN                NaN   \n",
              "\n",
              "   Ghazal Investment Amount  Ghazal Investment Equity  Ghazal Debt Amount  \\\n",
              "0                       NaN                       NaN                 NaN   \n",
              "1                       NaN                       NaN                 NaN   \n",
              "2                       NaN                       NaN                 NaN   \n",
              "3                       NaN                       NaN                 NaN   \n",
              "4                       NaN                       NaN                 NaN   \n",
              "\n",
              "   Number of sharks in deal  \n",
              "0                       3.0  \n",
              "1                       2.0  \n",
              "2                       2.0  \n",
              "3                       1.0  \n",
              "4                       NaN  \n",
              "\n",
              "[5 rows x 50 columns]"
            ],
            "text/html": [
              "\n",
              "  <div id=\"df-f1f04e26-3146-4b84-8ea9-95c62340b29d\">\n",
              "    <div class=\"colab-df-container\">\n",
              "      <div>\n",
              "<style scoped>\n",
              "    .dataframe tbody tr th:only-of-type {\n",
              "        vertical-align: middle;\n",
              "    }\n",
              "\n",
              "    .dataframe tbody tr th {\n",
              "        vertical-align: top;\n",
              "    }\n",
              "\n",
              "    .dataframe thead th {\n",
              "        text-align: right;\n",
              "    }\n",
              "</style>\n",
              "<table border=\"1\" class=\"dataframe\">\n",
              "  <thead>\n",
              "    <tr style=\"text-align: right;\">\n",
              "      <th></th>\n",
              "      <th>Season Number</th>\n",
              "      <th>Episode Number</th>\n",
              "      <th>Episode Title</th>\n",
              "      <th>Pitch Number</th>\n",
              "      <th>Startup Name</th>\n",
              "      <th>Industry</th>\n",
              "      <th>Business Description</th>\n",
              "      <th>Company Website</th>\n",
              "      <th>Number of Presenters</th>\n",
              "      <th>Male Presenters</th>\n",
              "      <th>...</th>\n",
              "      <th>Aman Investment Amount</th>\n",
              "      <th>Aman Investment Equity</th>\n",
              "      <th>Aman Debt Amount</th>\n",
              "      <th>Peyush Investment Amount</th>\n",
              "      <th>Peyush Investment Equity</th>\n",
              "      <th>Peyush Debt Amount</th>\n",
              "      <th>Ghazal Investment Amount</th>\n",
              "      <th>Ghazal Investment Equity</th>\n",
              "      <th>Ghazal Debt Amount</th>\n",
              "      <th>Number of sharks in deal</th>\n",
              "    </tr>\n",
              "  </thead>\n",
              "  <tbody>\n",
              "    <tr>\n",
              "      <th>0</th>\n",
              "      <td>1</td>\n",
              "      <td>1</td>\n",
              "      <td>Badlegi Business Ki Tasveer</td>\n",
              "      <td>1</td>\n",
              "      <td>BluePine Foods</td>\n",
              "      <td>Food</td>\n",
              "      <td>Frozen Momos</td>\n",
              "      <td>https://bluepinefoods.com/</td>\n",
              "      <td>3</td>\n",
              "      <td>2.0</td>\n",
              "      <td>...</td>\n",
              "      <td>25.0</td>\n",
              "      <td>5.33</td>\n",
              "      <td>NaN</td>\n",
              "      <td>NaN</td>\n",
              "      <td>NaN</td>\n",
              "      <td>NaN</td>\n",
              "      <td>NaN</td>\n",
              "      <td>NaN</td>\n",
              "      <td>NaN</td>\n",
              "      <td>3.0</td>\n",
              "    </tr>\n",
              "    <tr>\n",
              "      <th>1</th>\n",
              "      <td>1</td>\n",
              "      <td>1</td>\n",
              "      <td>Badlegi Business Ki Tasveer</td>\n",
              "      <td>2</td>\n",
              "      <td>Booz Scooters</td>\n",
              "      <td>Electrical Vehicles</td>\n",
              "      <td>Renting e-bike for mobility in private spaces</td>\n",
              "      <td>https://www.boozup.net/</td>\n",
              "      <td>1</td>\n",
              "      <td>1.0</td>\n",
              "      <td>...</td>\n",
              "      <td>0.0</td>\n",
              "      <td>0.00</td>\n",
              "      <td>NaN</td>\n",
              "      <td>NaN</td>\n",
              "      <td>NaN</td>\n",
              "      <td>NaN</td>\n",
              "      <td>NaN</td>\n",
              "      <td>NaN</td>\n",
              "      <td>NaN</td>\n",
              "      <td>2.0</td>\n",
              "    </tr>\n",
              "    <tr>\n",
              "      <th>2</th>\n",
              "      <td>1</td>\n",
              "      <td>1</td>\n",
              "      <td>Badlegi Business Ki Tasveer</td>\n",
              "      <td>3</td>\n",
              "      <td>Heart up my Sleeves</td>\n",
              "      <td>Beauty/Fashion</td>\n",
              "      <td>Detachable Sleeves</td>\n",
              "      <td>https://heartupmysleeves.com/</td>\n",
              "      <td>1</td>\n",
              "      <td>NaN</td>\n",
              "      <td>...</td>\n",
              "      <td>0.0</td>\n",
              "      <td>0.00</td>\n",
              "      <td>NaN</td>\n",
              "      <td>NaN</td>\n",
              "      <td>NaN</td>\n",
              "      <td>NaN</td>\n",
              "      <td>NaN</td>\n",
              "      <td>NaN</td>\n",
              "      <td>NaN</td>\n",
              "      <td>2.0</td>\n",
              "    </tr>\n",
              "    <tr>\n",
              "      <th>3</th>\n",
              "      <td>1</td>\n",
              "      <td>2</td>\n",
              "      <td>Insaan, Ideas Aur Sapne</td>\n",
              "      <td>4</td>\n",
              "      <td>Tagz Foods</td>\n",
              "      <td>Food</td>\n",
              "      <td>Healthy Potato Chips Snacks</td>\n",
              "      <td>https://tagzfoods.com/</td>\n",
              "      <td>2</td>\n",
              "      <td>2.0</td>\n",
              "      <td>...</td>\n",
              "      <td>0.0</td>\n",
              "      <td>0.00</td>\n",
              "      <td>NaN</td>\n",
              "      <td>NaN</td>\n",
              "      <td>NaN</td>\n",
              "      <td>NaN</td>\n",
              "      <td>NaN</td>\n",
              "      <td>NaN</td>\n",
              "      <td>NaN</td>\n",
              "      <td>1.0</td>\n",
              "    </tr>\n",
              "    <tr>\n",
              "      <th>4</th>\n",
              "      <td>1</td>\n",
              "      <td>2</td>\n",
              "      <td>Insaan, Ideas Aur Sapne</td>\n",
              "      <td>5</td>\n",
              "      <td>Head and Heart</td>\n",
              "      <td>Education</td>\n",
              "      <td>Brain Development Course</td>\n",
              "      <td>https://thehnh.in/</td>\n",
              "      <td>4</td>\n",
              "      <td>1.0</td>\n",
              "      <td>...</td>\n",
              "      <td>NaN</td>\n",
              "      <td>NaN</td>\n",
              "      <td>NaN</td>\n",
              "      <td>NaN</td>\n",
              "      <td>NaN</td>\n",
              "      <td>NaN</td>\n",
              "      <td>NaN</td>\n",
              "      <td>NaN</td>\n",
              "      <td>NaN</td>\n",
              "      <td>NaN</td>\n",
              "    </tr>\n",
              "  </tbody>\n",
              "</table>\n",
              "<p>5 rows × 50 columns</p>\n",
              "</div>\n",
              "      <button class=\"colab-df-convert\" onclick=\"convertToInteractive('df-f1f04e26-3146-4b84-8ea9-95c62340b29d')\"\n",
              "              title=\"Convert this dataframe to an interactive table.\"\n",
              "              style=\"display:none;\">\n",
              "        \n",
              "  <svg xmlns=\"http://www.w3.org/2000/svg\" height=\"24px\"viewBox=\"0 0 24 24\"\n",
              "       width=\"24px\">\n",
              "    <path d=\"M0 0h24v24H0V0z\" fill=\"none\"/>\n",
              "    <path d=\"M18.56 5.44l.94 2.06.94-2.06 2.06-.94-2.06-.94-.94-2.06-.94 2.06-2.06.94zm-11 1L8.5 8.5l.94-2.06 2.06-.94-2.06-.94L8.5 2.5l-.94 2.06-2.06.94zm10 10l.94 2.06.94-2.06 2.06-.94-2.06-.94-.94-2.06-.94 2.06-2.06.94z\"/><path d=\"M17.41 7.96l-1.37-1.37c-.4-.4-.92-.59-1.43-.59-.52 0-1.04.2-1.43.59L10.3 9.45l-7.72 7.72c-.78.78-.78 2.05 0 2.83L4 21.41c.39.39.9.59 1.41.59.51 0 1.02-.2 1.41-.59l7.78-7.78 2.81-2.81c.8-.78.8-2.07 0-2.86zM5.41 20L4 18.59l7.72-7.72 1.47 1.35L5.41 20z\"/>\n",
              "  </svg>\n",
              "      </button>\n",
              "      \n",
              "  <style>\n",
              "    .colab-df-container {\n",
              "      display:flex;\n",
              "      flex-wrap:wrap;\n",
              "      gap: 12px;\n",
              "    }\n",
              "\n",
              "    .colab-df-convert {\n",
              "      background-color: #E8F0FE;\n",
              "      border: none;\n",
              "      border-radius: 50%;\n",
              "      cursor: pointer;\n",
              "      display: none;\n",
              "      fill: #1967D2;\n",
              "      height: 32px;\n",
              "      padding: 0 0 0 0;\n",
              "      width: 32px;\n",
              "    }\n",
              "\n",
              "    .colab-df-convert:hover {\n",
              "      background-color: #E2EBFA;\n",
              "      box-shadow: 0px 1px 2px rgba(60, 64, 67, 0.3), 0px 1px 3px 1px rgba(60, 64, 67, 0.15);\n",
              "      fill: #174EA6;\n",
              "    }\n",
              "\n",
              "    [theme=dark] .colab-df-convert {\n",
              "      background-color: #3B4455;\n",
              "      fill: #D2E3FC;\n",
              "    }\n",
              "\n",
              "    [theme=dark] .colab-df-convert:hover {\n",
              "      background-color: #434B5C;\n",
              "      box-shadow: 0px 1px 3px 1px rgba(0, 0, 0, 0.15);\n",
              "      filter: drop-shadow(0px 1px 2px rgba(0, 0, 0, 0.3));\n",
              "      fill: #FFFFFF;\n",
              "    }\n",
              "  </style>\n",
              "\n",
              "      <script>\n",
              "        const buttonEl =\n",
              "          document.querySelector('#df-f1f04e26-3146-4b84-8ea9-95c62340b29d button.colab-df-convert');\n",
              "        buttonEl.style.display =\n",
              "          google.colab.kernel.accessAllowed ? 'block' : 'none';\n",
              "\n",
              "        async function convertToInteractive(key) {\n",
              "          const element = document.querySelector('#df-f1f04e26-3146-4b84-8ea9-95c62340b29d');\n",
              "          const dataTable =\n",
              "            await google.colab.kernel.invokeFunction('convertToInteractive',\n",
              "                                                     [key], {});\n",
              "          if (!dataTable) return;\n",
              "\n",
              "          const docLinkHtml = 'Like what you see? Visit the ' +\n",
              "            '<a target=\"_blank\" href=https://colab.research.google.com/notebooks/data_table.ipynb>data table notebook</a>'\n",
              "            + ' to learn more about interactive tables.';\n",
              "          element.innerHTML = '';\n",
              "          dataTable['output_type'] = 'display_data';\n",
              "          await google.colab.output.renderOutput(dataTable, element);\n",
              "          const docLink = document.createElement('div');\n",
              "          docLink.innerHTML = docLinkHtml;\n",
              "          element.appendChild(docLink);\n",
              "        }\n",
              "      </script>\n",
              "    </div>\n",
              "  </div>\n",
              "  "
            ]
          },
          "metadata": {},
          "execution_count": 7
        }
      ]
    },
    {
      "cell_type": "code",
      "source": [
        "print(df1['Industry'].value_counts())\n",
        "\n",
        "tmp = df1['Industry'].value_counts().sort_values(ascending = True)\n",
        "fig = px.bar(tmp, x ='Industry', title =' Different industries in Shark Tank',\n",
        "color = 'Industry' , template = 'simple_white', text = tmp)\n",
        "fig.show()"
      ],
      "metadata": {
        "colab": {
          "base_uri": "https://localhost:8080/",
          "height": 750
        },
        "id": "x9vIoP9UaUQ7",
        "outputId": "e7630305-388c-49c5-e3de-fa9b89f950b6"
      },
      "execution_count": 5,
      "outputs": [
        {
          "output_type": "stream",
          "name": "stdout",
          "text": [
            "Food                   37\n",
            "Beauty/Fashion         22\n",
            "Manufacturing          17\n",
            "Technology             11\n",
            "Education               8\n",
            "Services                7\n",
            "Medical                 7\n",
            "Electrical Vehicles     4\n",
            "Animal/Pets             3\n",
            "Hardware                3\n",
            "Sports                  2\n",
            "Name: Industry, dtype: int64\n"
          ]
        },
        {
          "output_type": "display_data",
          "data": {
            "text/html": [
              "<html>\n",
              "<head><meta charset=\"utf-8\" /></head>\n",
              "<body>\n",
              "    <div>            <script src=\"https://cdnjs.cloudflare.com/ajax/libs/mathjax/2.7.5/MathJax.js?config=TeX-AMS-MML_SVG\"></script><script type=\"text/javascript\">if (window.MathJax) {MathJax.Hub.Config({SVG: {font: \"STIX-Web\"}});}</script>                <script type=\"text/javascript\">window.PlotlyConfig = {MathJaxConfig: 'local'};</script>\n",
              "        <script src=\"https://cdn.plot.ly/plotly-2.8.3.min.js\"></script>                <div id=\"19c74f4b-048a-437e-aaa9-12421ccc499b\" class=\"plotly-graph-div\" style=\"height:525px; width:100%;\"></div>            <script type=\"text/javascript\">                                    window.PLOTLYENV=window.PLOTLYENV || {};                                    if (document.getElementById(\"19c74f4b-048a-437e-aaa9-12421ccc499b\")) {                    Plotly.newPlot(                        \"19c74f4b-048a-437e-aaa9-12421ccc499b\",                        [{\"alignmentgroup\":\"True\",\"hovertemplate\":\"Industry=%{marker.color}<br>index=%{y}<br>text=%{text}<extra></extra>\",\"legendgroup\":\"\",\"marker\":{\"color\":[2,3,3,4,7,7,8,11,17,22,37],\"coloraxis\":\"coloraxis\",\"pattern\":{\"shape\":\"\"}},\"name\":\"\",\"offsetgroup\":\"\",\"orientation\":\"h\",\"showlegend\":false,\"text\":[2.0,3.0,3.0,4.0,7.0,7.0,8.0,11.0,17.0,22.0,37.0],\"textposition\":\"auto\",\"x\":[2,3,3,4,7,7,8,11,17,22,37],\"xaxis\":\"x\",\"y\":[\"Sports\",\"Animal/Pets\",\"Hardware\",\"Electrical Vehicles\",\"Services\",\"Medical\",\"Education\",\"Technology\",\"Manufacturing\",\"Beauty/Fashion\",\"Food\"],\"yaxis\":\"y\",\"type\":\"bar\"}],                        {\"template\":{\"data\":{\"barpolar\":[{\"marker\":{\"line\":{\"color\":\"white\",\"width\":0.5},\"pattern\":{\"fillmode\":\"overlay\",\"size\":10,\"solidity\":0.2}},\"type\":\"barpolar\"}],\"bar\":[{\"error_x\":{\"color\":\"rgb(36,36,36)\"},\"error_y\":{\"color\":\"rgb(36,36,36)\"},\"marker\":{\"line\":{\"color\":\"white\",\"width\":0.5},\"pattern\":{\"fillmode\":\"overlay\",\"size\":10,\"solidity\":0.2}},\"type\":\"bar\"}],\"carpet\":[{\"aaxis\":{\"endlinecolor\":\"rgb(36,36,36)\",\"gridcolor\":\"white\",\"linecolor\":\"white\",\"minorgridcolor\":\"white\",\"startlinecolor\":\"rgb(36,36,36)\"},\"baxis\":{\"endlinecolor\":\"rgb(36,36,36)\",\"gridcolor\":\"white\",\"linecolor\":\"white\",\"minorgridcolor\":\"white\",\"startlinecolor\":\"rgb(36,36,36)\"},\"type\":\"carpet\"}],\"choropleth\":[{\"colorbar\":{\"outlinewidth\":1,\"tickcolor\":\"rgb(36,36,36)\",\"ticks\":\"outside\"},\"type\":\"choropleth\"}],\"contourcarpet\":[{\"colorbar\":{\"outlinewidth\":1,\"tickcolor\":\"rgb(36,36,36)\",\"ticks\":\"outside\"},\"type\":\"contourcarpet\"}],\"contour\":[{\"colorbar\":{\"outlinewidth\":1,\"tickcolor\":\"rgb(36,36,36)\",\"ticks\":\"outside\"},\"colorscale\":[[0.0,\"#440154\"],[0.1111111111111111,\"#482878\"],[0.2222222222222222,\"#3e4989\"],[0.3333333333333333,\"#31688e\"],[0.4444444444444444,\"#26828e\"],[0.5555555555555556,\"#1f9e89\"],[0.6666666666666666,\"#35b779\"],[0.7777777777777778,\"#6ece58\"],[0.8888888888888888,\"#b5de2b\"],[1.0,\"#fde725\"]],\"type\":\"contour\"}],\"heatmapgl\":[{\"colorbar\":{\"outlinewidth\":1,\"tickcolor\":\"rgb(36,36,36)\",\"ticks\":\"outside\"},\"colorscale\":[[0.0,\"#440154\"],[0.1111111111111111,\"#482878\"],[0.2222222222222222,\"#3e4989\"],[0.3333333333333333,\"#31688e\"],[0.4444444444444444,\"#26828e\"],[0.5555555555555556,\"#1f9e89\"],[0.6666666666666666,\"#35b779\"],[0.7777777777777778,\"#6ece58\"],[0.8888888888888888,\"#b5de2b\"],[1.0,\"#fde725\"]],\"type\":\"heatmapgl\"}],\"heatmap\":[{\"colorbar\":{\"outlinewidth\":1,\"tickcolor\":\"rgb(36,36,36)\",\"ticks\":\"outside\"},\"colorscale\":[[0.0,\"#440154\"],[0.1111111111111111,\"#482878\"],[0.2222222222222222,\"#3e4989\"],[0.3333333333333333,\"#31688e\"],[0.4444444444444444,\"#26828e\"],[0.5555555555555556,\"#1f9e89\"],[0.6666666666666666,\"#35b779\"],[0.7777777777777778,\"#6ece58\"],[0.8888888888888888,\"#b5de2b\"],[1.0,\"#fde725\"]],\"type\":\"heatmap\"}],\"histogram2dcontour\":[{\"colorbar\":{\"outlinewidth\":1,\"tickcolor\":\"rgb(36,36,36)\",\"ticks\":\"outside\"},\"colorscale\":[[0.0,\"#440154\"],[0.1111111111111111,\"#482878\"],[0.2222222222222222,\"#3e4989\"],[0.3333333333333333,\"#31688e\"],[0.4444444444444444,\"#26828e\"],[0.5555555555555556,\"#1f9e89\"],[0.6666666666666666,\"#35b779\"],[0.7777777777777778,\"#6ece58\"],[0.8888888888888888,\"#b5de2b\"],[1.0,\"#fde725\"]],\"type\":\"histogram2dcontour\"}],\"histogram2d\":[{\"colorbar\":{\"outlinewidth\":1,\"tickcolor\":\"rgb(36,36,36)\",\"ticks\":\"outside\"},\"colorscale\":[[0.0,\"#440154\"],[0.1111111111111111,\"#482878\"],[0.2222222222222222,\"#3e4989\"],[0.3333333333333333,\"#31688e\"],[0.4444444444444444,\"#26828e\"],[0.5555555555555556,\"#1f9e89\"],[0.6666666666666666,\"#35b779\"],[0.7777777777777778,\"#6ece58\"],[0.8888888888888888,\"#b5de2b\"],[1.0,\"#fde725\"]],\"type\":\"histogram2d\"}],\"histogram\":[{\"marker\":{\"line\":{\"color\":\"white\",\"width\":0.6}},\"type\":\"histogram\"}],\"mesh3d\":[{\"colorbar\":{\"outlinewidth\":1,\"tickcolor\":\"rgb(36,36,36)\",\"ticks\":\"outside\"},\"type\":\"mesh3d\"}],\"parcoords\":[{\"line\":{\"colorbar\":{\"outlinewidth\":1,\"tickcolor\":\"rgb(36,36,36)\",\"ticks\":\"outside\"}},\"type\":\"parcoords\"}],\"pie\":[{\"automargin\":true,\"type\":\"pie\"}],\"scatter3d\":[{\"line\":{\"colorbar\":{\"outlinewidth\":1,\"tickcolor\":\"rgb(36,36,36)\",\"ticks\":\"outside\"}},\"marker\":{\"colorbar\":{\"outlinewidth\":1,\"tickcolor\":\"rgb(36,36,36)\",\"ticks\":\"outside\"}},\"type\":\"scatter3d\"}],\"scattercarpet\":[{\"marker\":{\"colorbar\":{\"outlinewidth\":1,\"tickcolor\":\"rgb(36,36,36)\",\"ticks\":\"outside\"}},\"type\":\"scattercarpet\"}],\"scattergeo\":[{\"marker\":{\"colorbar\":{\"outlinewidth\":1,\"tickcolor\":\"rgb(36,36,36)\",\"ticks\":\"outside\"}},\"type\":\"scattergeo\"}],\"scattergl\":[{\"marker\":{\"colorbar\":{\"outlinewidth\":1,\"tickcolor\":\"rgb(36,36,36)\",\"ticks\":\"outside\"}},\"type\":\"scattergl\"}],\"scattermapbox\":[{\"marker\":{\"colorbar\":{\"outlinewidth\":1,\"tickcolor\":\"rgb(36,36,36)\",\"ticks\":\"outside\"}},\"type\":\"scattermapbox\"}],\"scatterpolargl\":[{\"marker\":{\"colorbar\":{\"outlinewidth\":1,\"tickcolor\":\"rgb(36,36,36)\",\"ticks\":\"outside\"}},\"type\":\"scatterpolargl\"}],\"scatterpolar\":[{\"marker\":{\"colorbar\":{\"outlinewidth\":1,\"tickcolor\":\"rgb(36,36,36)\",\"ticks\":\"outside\"}},\"type\":\"scatterpolar\"}],\"scatter\":[{\"marker\":{\"colorbar\":{\"outlinewidth\":1,\"tickcolor\":\"rgb(36,36,36)\",\"ticks\":\"outside\"}},\"type\":\"scatter\"}],\"scatterternary\":[{\"marker\":{\"colorbar\":{\"outlinewidth\":1,\"tickcolor\":\"rgb(36,36,36)\",\"ticks\":\"outside\"}},\"type\":\"scatterternary\"}],\"surface\":[{\"colorbar\":{\"outlinewidth\":1,\"tickcolor\":\"rgb(36,36,36)\",\"ticks\":\"outside\"},\"colorscale\":[[0.0,\"#440154\"],[0.1111111111111111,\"#482878\"],[0.2222222222222222,\"#3e4989\"],[0.3333333333333333,\"#31688e\"],[0.4444444444444444,\"#26828e\"],[0.5555555555555556,\"#1f9e89\"],[0.6666666666666666,\"#35b779\"],[0.7777777777777778,\"#6ece58\"],[0.8888888888888888,\"#b5de2b\"],[1.0,\"#fde725\"]],\"type\":\"surface\"}],\"table\":[{\"cells\":{\"fill\":{\"color\":\"rgb(237,237,237)\"},\"line\":{\"color\":\"white\"}},\"header\":{\"fill\":{\"color\":\"rgb(217,217,217)\"},\"line\":{\"color\":\"white\"}},\"type\":\"table\"}]},\"layout\":{\"annotationdefaults\":{\"arrowhead\":0,\"arrowwidth\":1},\"autotypenumbers\":\"strict\",\"coloraxis\":{\"colorbar\":{\"outlinewidth\":1,\"tickcolor\":\"rgb(36,36,36)\",\"ticks\":\"outside\"}},\"colorscale\":{\"diverging\":[[0.0,\"rgb(103,0,31)\"],[0.1,\"rgb(178,24,43)\"],[0.2,\"rgb(214,96,77)\"],[0.3,\"rgb(244,165,130)\"],[0.4,\"rgb(253,219,199)\"],[0.5,\"rgb(247,247,247)\"],[0.6,\"rgb(209,229,240)\"],[0.7,\"rgb(146,197,222)\"],[0.8,\"rgb(67,147,195)\"],[0.9,\"rgb(33,102,172)\"],[1.0,\"rgb(5,48,97)\"]],\"sequential\":[[0.0,\"#440154\"],[0.1111111111111111,\"#482878\"],[0.2222222222222222,\"#3e4989\"],[0.3333333333333333,\"#31688e\"],[0.4444444444444444,\"#26828e\"],[0.5555555555555556,\"#1f9e89\"],[0.6666666666666666,\"#35b779\"],[0.7777777777777778,\"#6ece58\"],[0.8888888888888888,\"#b5de2b\"],[1.0,\"#fde725\"]],\"sequentialminus\":[[0.0,\"#440154\"],[0.1111111111111111,\"#482878\"],[0.2222222222222222,\"#3e4989\"],[0.3333333333333333,\"#31688e\"],[0.4444444444444444,\"#26828e\"],[0.5555555555555556,\"#1f9e89\"],[0.6666666666666666,\"#35b779\"],[0.7777777777777778,\"#6ece58\"],[0.8888888888888888,\"#b5de2b\"],[1.0,\"#fde725\"]]},\"colorway\":[\"#1F77B4\",\"#FF7F0E\",\"#2CA02C\",\"#D62728\",\"#9467BD\",\"#8C564B\",\"#E377C2\",\"#7F7F7F\",\"#BCBD22\",\"#17BECF\"],\"font\":{\"color\":\"rgb(36,36,36)\"},\"geo\":{\"bgcolor\":\"white\",\"lakecolor\":\"white\",\"landcolor\":\"white\",\"showlakes\":true,\"showland\":true,\"subunitcolor\":\"white\"},\"hoverlabel\":{\"align\":\"left\"},\"hovermode\":\"closest\",\"mapbox\":{\"style\":\"light\"},\"paper_bgcolor\":\"white\",\"plot_bgcolor\":\"white\",\"polar\":{\"angularaxis\":{\"gridcolor\":\"rgb(232,232,232)\",\"linecolor\":\"rgb(36,36,36)\",\"showgrid\":false,\"showline\":true,\"ticks\":\"outside\"},\"bgcolor\":\"white\",\"radialaxis\":{\"gridcolor\":\"rgb(232,232,232)\",\"linecolor\":\"rgb(36,36,36)\",\"showgrid\":false,\"showline\":true,\"ticks\":\"outside\"}},\"scene\":{\"xaxis\":{\"backgroundcolor\":\"white\",\"gridcolor\":\"rgb(232,232,232)\",\"gridwidth\":2,\"linecolor\":\"rgb(36,36,36)\",\"showbackground\":true,\"showgrid\":false,\"showline\":true,\"ticks\":\"outside\",\"zeroline\":false,\"zerolinecolor\":\"rgb(36,36,36)\"},\"yaxis\":{\"backgroundcolor\":\"white\",\"gridcolor\":\"rgb(232,232,232)\",\"gridwidth\":2,\"linecolor\":\"rgb(36,36,36)\",\"showbackground\":true,\"showgrid\":false,\"showline\":true,\"ticks\":\"outside\",\"zeroline\":false,\"zerolinecolor\":\"rgb(36,36,36)\"},\"zaxis\":{\"backgroundcolor\":\"white\",\"gridcolor\":\"rgb(232,232,232)\",\"gridwidth\":2,\"linecolor\":\"rgb(36,36,36)\",\"showbackground\":true,\"showgrid\":false,\"showline\":true,\"ticks\":\"outside\",\"zeroline\":false,\"zerolinecolor\":\"rgb(36,36,36)\"}},\"shapedefaults\":{\"fillcolor\":\"black\",\"line\":{\"width\":0},\"opacity\":0.3},\"ternary\":{\"aaxis\":{\"gridcolor\":\"rgb(232,232,232)\",\"linecolor\":\"rgb(36,36,36)\",\"showgrid\":false,\"showline\":true,\"ticks\":\"outside\"},\"baxis\":{\"gridcolor\":\"rgb(232,232,232)\",\"linecolor\":\"rgb(36,36,36)\",\"showgrid\":false,\"showline\":true,\"ticks\":\"outside\"},\"bgcolor\":\"white\",\"caxis\":{\"gridcolor\":\"rgb(232,232,232)\",\"linecolor\":\"rgb(36,36,36)\",\"showgrid\":false,\"showline\":true,\"ticks\":\"outside\"}},\"title\":{\"x\":0.05},\"xaxis\":{\"automargin\":true,\"gridcolor\":\"rgb(232,232,232)\",\"linecolor\":\"rgb(36,36,36)\",\"showgrid\":false,\"showline\":true,\"ticks\":\"outside\",\"title\":{\"standoff\":15},\"zeroline\":false,\"zerolinecolor\":\"rgb(36,36,36)\"},\"yaxis\":{\"automargin\":true,\"gridcolor\":\"rgb(232,232,232)\",\"linecolor\":\"rgb(36,36,36)\",\"showgrid\":false,\"showline\":true,\"ticks\":\"outside\",\"title\":{\"standoff\":15},\"zeroline\":false,\"zerolinecolor\":\"rgb(36,36,36)\"}}},\"xaxis\":{\"anchor\":\"y\",\"domain\":[0.0,1.0],\"title\":{\"text\":\"Industry\"}},\"yaxis\":{\"anchor\":\"x\",\"domain\":[0.0,1.0],\"title\":{\"text\":\"index\"}},\"coloraxis\":{\"colorbar\":{\"title\":{\"text\":\"Industry\"}},\"colorscale\":[[0.0,\"#440154\"],[0.1111111111111111,\"#482878\"],[0.2222222222222222,\"#3e4989\"],[0.3333333333333333,\"#31688e\"],[0.4444444444444444,\"#26828e\"],[0.5555555555555556,\"#1f9e89\"],[0.6666666666666666,\"#35b779\"],[0.7777777777777778,\"#6ece58\"],[0.8888888888888888,\"#b5de2b\"],[1.0,\"#fde725\"]]},\"legend\":{\"tracegroupgap\":0},\"title\":{\"text\":\" Different industries in Shark Tank\"},\"barmode\":\"relative\"},                        {\"responsive\": true}                    ).then(function(){\n",
              "                            \n",
              "var gd = document.getElementById('19c74f4b-048a-437e-aaa9-12421ccc499b');\n",
              "var x = new MutationObserver(function (mutations, observer) {{\n",
              "        var display = window.getComputedStyle(gd).display;\n",
              "        if (!display || display === 'none') {{\n",
              "            console.log([gd, 'removed!']);\n",
              "            Plotly.purge(gd);\n",
              "            observer.disconnect();\n",
              "        }}\n",
              "}});\n",
              "\n",
              "// Listen for the removal of the full notebook cells\n",
              "var notebookContainer = gd.closest('#notebook-container');\n",
              "if (notebookContainer) {{\n",
              "    x.observe(notebookContainer, {childList: true});\n",
              "}}\n",
              "\n",
              "// Listen for the clearing of the current output cell\n",
              "var outputEl = gd.closest('.output');\n",
              "if (outputEl) {{\n",
              "    x.observe(outputEl, {childList: true});\n",
              "}}\n",
              "\n",
              "                        })                };                            </script>        </div>\n",
              "</body>\n",
              "</html>"
            ]
          },
          "metadata": {}
        }
      ]
    },
    {
      "cell_type": "markdown",
      "source": [
        "Gender Wise Entreprenuers"
      ],
      "metadata": {
        "id": "PpA8lUg9toKp"
      }
    },
    {
      "cell_type": "code",
      "source": [
        "print(\"Total pitchers-\", int(df1['Number of Presenters'].sum()),'\\n',)\n",
        "\n",
        "print(\"Total male pitchers-\", int(df1['Male Presenters'].sum()),'\\n')\n",
        "\n",
        "print(\"Total female pitchers-\", int(df1['Female Presenters'].sum()),'\\n',)\n",
        "\n",
        "print('Male entreprenuers percentage-', round(df1['Male Presenters'].sum()/df1\n",
        "['Number of Presenters'].sum()*100,2), '%\\n', sep='')\n",
        "\n",
        "print('Female entreprenuers percentage-', round(df1['Female Presenters'].sum()/df1\n",
        "['Number of Presenters'].sum()*100,2), '%\\n', sep='')\n",
        "\n",
        "print('Couple entreprenuers percentage-', round(df1['Couple Presenters'].sum()/df1\n",
        "['Number of Presenters'].sum()*100,2), '%\\n', sep='')"
      ],
      "metadata": {
        "colab": {
          "base_uri": "https://localhost:8080/",
          "height": 0
        },
        "id": "nhxVKt-MtnDz",
        "outputId": "a5a1e3ec-6e2b-47e9-e3c7-af75e9f12c2e"
      },
      "execution_count": 54,
      "outputs": [
        {
          "output_type": "stream",
          "name": "stdout",
          "text": [
            "Total pitchers- 252 \n",
            "\n",
            "Total male pitchers- 177 \n",
            "\n",
            "Total female pitchers- 75 \n",
            "\n",
            "Male entreprenuers percentage-70.24%\n",
            "\n",
            "Female entreprenuers percentage-29.76%\n",
            "\n",
            "Couple entreprenuers percentage-9.92%\n",
            "\n"
          ]
        }
      ]
    },
    {
      "cell_type": "markdown",
      "source": [
        "Top 10 Highest Yearly Revenue of the brands "
      ],
      "metadata": {
        "id": "yYJEjOYeSWUp"
      }
    },
    {
      "cell_type": "code",
      "source": [
        "print(df1.groupby('Startup Name')['Yearly Revenue'].max().nlargest(10))\n",
        "\n",
        "tmpdf = df1.sort_values('Yearly Revenue', ascending = False)[0:10]\n",
        "fig = px.bar(tmpdf, x = \"Startup Name\", y= 'Yearly Revenue', color = 'Startup Name',\n",
        "             title = \"Highest Revenue of the pitches\", text = tmpdf['Yearly Revenue'].map(int).map(str)+ '%')\n",
        "\n",
        "fig.show()"
      ],
      "metadata": {
        "colab": {
          "base_uri": "https://localhost:8080/",
          "height": 750
        },
        "id": "yibmKGm6ss70",
        "outputId": "543e0daf-c09c-46fb-fd02-4a39a7f7f1ae"
      },
      "execution_count": 9,
      "outputs": [
        {
          "output_type": "stream",
          "name": "stdout",
          "text": [
            "Startup Name\n",
            "French Crown          7200.0\n",
            "Guardian Gears        2500.0\n",
            "Raising Superstars    1300.0\n",
            "PlayBoxTV             1020.0\n",
            "Alpino                1000.0\n",
            "Hammer Lifestyle      1000.0\n",
            "Shades of Spring       900.0\n",
            "Tagz Foods             700.0\n",
            "Devnagri               500.0\n",
            "Moonshine              372.0\n",
            "Name: Yearly Revenue, dtype: float64\n"
          ]
        },
        {
          "output_type": "display_data",
          "data": {
            "text/html": [
              "<html>\n",
              "<head><meta charset=\"utf-8\" /></head>\n",
              "<body>\n",
              "    <div>            <script src=\"https://cdnjs.cloudflare.com/ajax/libs/mathjax/2.7.5/MathJax.js?config=TeX-AMS-MML_SVG\"></script><script type=\"text/javascript\">if (window.MathJax) {MathJax.Hub.Config({SVG: {font: \"STIX-Web\"}});}</script>                <script type=\"text/javascript\">window.PlotlyConfig = {MathJaxConfig: 'local'};</script>\n",
              "        <script src=\"https://cdn.plot.ly/plotly-2.8.3.min.js\"></script>                <div id=\"7505c15e-634f-411c-8196-03a9342608b9\" class=\"plotly-graph-div\" style=\"height:525px; width:100%;\"></div>            <script type=\"text/javascript\">                                    window.PLOTLYENV=window.PLOTLYENV || {};                                    if (document.getElementById(\"7505c15e-634f-411c-8196-03a9342608b9\")) {                    Plotly.newPlot(                        \"7505c15e-634f-411c-8196-03a9342608b9\",                        [{\"alignmentgroup\":\"True\",\"hovertemplate\":\"Startup Name=%{x}<br>Yearly Revenue=%{y}<br>text=%{text}<extra></extra>\",\"legendgroup\":\"French Crown\",\"marker\":{\"color\":\"#636efa\",\"pattern\":{\"shape\":\"\"}},\"name\":\"French Crown\",\"offsetgroup\":\"French Crown\",\"orientation\":\"v\",\"showlegend\":true,\"text\":[\"7200%\"],\"textposition\":\"auto\",\"x\":[\"French Crown\"],\"xaxis\":\"x\",\"y\":[7200.0],\"yaxis\":\"y\",\"type\":\"bar\"},{\"alignmentgroup\":\"True\",\"hovertemplate\":\"Startup Name=%{x}<br>Yearly Revenue=%{y}<br>text=%{text}<extra></extra>\",\"legendgroup\":\"Guardian Gears\",\"marker\":{\"color\":\"#EF553B\",\"pattern\":{\"shape\":\"\"}},\"name\":\"Guardian Gears\",\"offsetgroup\":\"Guardian Gears\",\"orientation\":\"v\",\"showlegend\":true,\"text\":[\"2500%\"],\"textposition\":\"auto\",\"x\":[\"Guardian Gears\"],\"xaxis\":\"x\",\"y\":[2500.0],\"yaxis\":\"y\",\"type\":\"bar\"},{\"alignmentgroup\":\"True\",\"hovertemplate\":\"Startup Name=%{x}<br>Yearly Revenue=%{y}<br>text=%{text}<extra></extra>\",\"legendgroup\":\"Raising Superstars\",\"marker\":{\"color\":\"#00cc96\",\"pattern\":{\"shape\":\"\"}},\"name\":\"Raising Superstars\",\"offsetgroup\":\"Raising Superstars\",\"orientation\":\"v\",\"showlegend\":true,\"text\":[\"1300%\"],\"textposition\":\"auto\",\"x\":[\"Raising Superstars\"],\"xaxis\":\"x\",\"y\":[1300.0],\"yaxis\":\"y\",\"type\":\"bar\"},{\"alignmentgroup\":\"True\",\"hovertemplate\":\"Startup Name=%{x}<br>Yearly Revenue=%{y}<br>text=%{text}<extra></extra>\",\"legendgroup\":\"PlayBoxTV\",\"marker\":{\"color\":\"#ab63fa\",\"pattern\":{\"shape\":\"\"}},\"name\":\"PlayBoxTV\",\"offsetgroup\":\"PlayBoxTV\",\"orientation\":\"v\",\"showlegend\":true,\"text\":[\"1020%\"],\"textposition\":\"auto\",\"x\":[\"PlayBoxTV\"],\"xaxis\":\"x\",\"y\":[1020.0],\"yaxis\":\"y\",\"type\":\"bar\"},{\"alignmentgroup\":\"True\",\"hovertemplate\":\"Startup Name=%{x}<br>Yearly Revenue=%{y}<br>text=%{text}<extra></extra>\",\"legendgroup\":\"Alpino\",\"marker\":{\"color\":\"#FFA15A\",\"pattern\":{\"shape\":\"\"}},\"name\":\"Alpino\",\"offsetgroup\":\"Alpino\",\"orientation\":\"v\",\"showlegend\":true,\"text\":[\"1000%\"],\"textposition\":\"auto\",\"x\":[\"Alpino\"],\"xaxis\":\"x\",\"y\":[1000.0],\"yaxis\":\"y\",\"type\":\"bar\"},{\"alignmentgroup\":\"True\",\"hovertemplate\":\"Startup Name=%{x}<br>Yearly Revenue=%{y}<br>text=%{text}<extra></extra>\",\"legendgroup\":\"Hammer Lifestyle\",\"marker\":{\"color\":\"#19d3f3\",\"pattern\":{\"shape\":\"\"}},\"name\":\"Hammer Lifestyle\",\"offsetgroup\":\"Hammer Lifestyle\",\"orientation\":\"v\",\"showlegend\":true,\"text\":[\"1000%\"],\"textposition\":\"auto\",\"x\":[\"Hammer Lifestyle\"],\"xaxis\":\"x\",\"y\":[1000.0],\"yaxis\":\"y\",\"type\":\"bar\"},{\"alignmentgroup\":\"True\",\"hovertemplate\":\"Startup Name=%{x}<br>Yearly Revenue=%{y}<br>text=%{text}<extra></extra>\",\"legendgroup\":\"Shades of Spring\",\"marker\":{\"color\":\"#FF6692\",\"pattern\":{\"shape\":\"\"}},\"name\":\"Shades of Spring\",\"offsetgroup\":\"Shades of Spring\",\"orientation\":\"v\",\"showlegend\":true,\"text\":[\"900%\"],\"textposition\":\"auto\",\"x\":[\"Shades of Spring\"],\"xaxis\":\"x\",\"y\":[900.0],\"yaxis\":\"y\",\"type\":\"bar\"},{\"alignmentgroup\":\"True\",\"hovertemplate\":\"Startup Name=%{x}<br>Yearly Revenue=%{y}<br>text=%{text}<extra></extra>\",\"legendgroup\":\"Tagz Foods\",\"marker\":{\"color\":\"#B6E880\",\"pattern\":{\"shape\":\"\"}},\"name\":\"Tagz Foods\",\"offsetgroup\":\"Tagz Foods\",\"orientation\":\"v\",\"showlegend\":true,\"text\":[\"700%\"],\"textposition\":\"auto\",\"x\":[\"Tagz Foods\"],\"xaxis\":\"x\",\"y\":[700.0],\"yaxis\":\"y\",\"type\":\"bar\"},{\"alignmentgroup\":\"True\",\"hovertemplate\":\"Startup Name=%{x}<br>Yearly Revenue=%{y}<br>text=%{text}<extra></extra>\",\"legendgroup\":\"Devnagri\",\"marker\":{\"color\":\"#FF97FF\",\"pattern\":{\"shape\":\"\"}},\"name\":\"Devnagri\",\"offsetgroup\":\"Devnagri\",\"orientation\":\"v\",\"showlegend\":true,\"text\":[\"500%\"],\"textposition\":\"auto\",\"x\":[\"Devnagri\"],\"xaxis\":\"x\",\"y\":[500.0],\"yaxis\":\"y\",\"type\":\"bar\"},{\"alignmentgroup\":\"True\",\"hovertemplate\":\"Startup Name=%{x}<br>Yearly Revenue=%{y}<br>text=%{text}<extra></extra>\",\"legendgroup\":\"Moonshine\",\"marker\":{\"color\":\"#FECB52\",\"pattern\":{\"shape\":\"\"}},\"name\":\"Moonshine\",\"offsetgroup\":\"Moonshine\",\"orientation\":\"v\",\"showlegend\":true,\"text\":[\"372%\"],\"textposition\":\"auto\",\"x\":[\"Moonshine\"],\"xaxis\":\"x\",\"y\":[372.0],\"yaxis\":\"y\",\"type\":\"bar\"}],                        {\"template\":{\"data\":{\"bar\":[{\"error_x\":{\"color\":\"#2a3f5f\"},\"error_y\":{\"color\":\"#2a3f5f\"},\"marker\":{\"line\":{\"color\":\"#E5ECF6\",\"width\":0.5},\"pattern\":{\"fillmode\":\"overlay\",\"size\":10,\"solidity\":0.2}},\"type\":\"bar\"}],\"barpolar\":[{\"marker\":{\"line\":{\"color\":\"#E5ECF6\",\"width\":0.5},\"pattern\":{\"fillmode\":\"overlay\",\"size\":10,\"solidity\":0.2}},\"type\":\"barpolar\"}],\"carpet\":[{\"aaxis\":{\"endlinecolor\":\"#2a3f5f\",\"gridcolor\":\"white\",\"linecolor\":\"white\",\"minorgridcolor\":\"white\",\"startlinecolor\":\"#2a3f5f\"},\"baxis\":{\"endlinecolor\":\"#2a3f5f\",\"gridcolor\":\"white\",\"linecolor\":\"white\",\"minorgridcolor\":\"white\",\"startlinecolor\":\"#2a3f5f\"},\"type\":\"carpet\"}],\"choropleth\":[{\"colorbar\":{\"outlinewidth\":0,\"ticks\":\"\"},\"type\":\"choropleth\"}],\"contour\":[{\"colorbar\":{\"outlinewidth\":0,\"ticks\":\"\"},\"colorscale\":[[0.0,\"#0d0887\"],[0.1111111111111111,\"#46039f\"],[0.2222222222222222,\"#7201a8\"],[0.3333333333333333,\"#9c179e\"],[0.4444444444444444,\"#bd3786\"],[0.5555555555555556,\"#d8576b\"],[0.6666666666666666,\"#ed7953\"],[0.7777777777777778,\"#fb9f3a\"],[0.8888888888888888,\"#fdca26\"],[1.0,\"#f0f921\"]],\"type\":\"contour\"}],\"contourcarpet\":[{\"colorbar\":{\"outlinewidth\":0,\"ticks\":\"\"},\"type\":\"contourcarpet\"}],\"heatmap\":[{\"colorbar\":{\"outlinewidth\":0,\"ticks\":\"\"},\"colorscale\":[[0.0,\"#0d0887\"],[0.1111111111111111,\"#46039f\"],[0.2222222222222222,\"#7201a8\"],[0.3333333333333333,\"#9c179e\"],[0.4444444444444444,\"#bd3786\"],[0.5555555555555556,\"#d8576b\"],[0.6666666666666666,\"#ed7953\"],[0.7777777777777778,\"#fb9f3a\"],[0.8888888888888888,\"#fdca26\"],[1.0,\"#f0f921\"]],\"type\":\"heatmap\"}],\"heatmapgl\":[{\"colorbar\":{\"outlinewidth\":0,\"ticks\":\"\"},\"colorscale\":[[0.0,\"#0d0887\"],[0.1111111111111111,\"#46039f\"],[0.2222222222222222,\"#7201a8\"],[0.3333333333333333,\"#9c179e\"],[0.4444444444444444,\"#bd3786\"],[0.5555555555555556,\"#d8576b\"],[0.6666666666666666,\"#ed7953\"],[0.7777777777777778,\"#fb9f3a\"],[0.8888888888888888,\"#fdca26\"],[1.0,\"#f0f921\"]],\"type\":\"heatmapgl\"}],\"histogram\":[{\"marker\":{\"pattern\":{\"fillmode\":\"overlay\",\"size\":10,\"solidity\":0.2}},\"type\":\"histogram\"}],\"histogram2d\":[{\"colorbar\":{\"outlinewidth\":0,\"ticks\":\"\"},\"colorscale\":[[0.0,\"#0d0887\"],[0.1111111111111111,\"#46039f\"],[0.2222222222222222,\"#7201a8\"],[0.3333333333333333,\"#9c179e\"],[0.4444444444444444,\"#bd3786\"],[0.5555555555555556,\"#d8576b\"],[0.6666666666666666,\"#ed7953\"],[0.7777777777777778,\"#fb9f3a\"],[0.8888888888888888,\"#fdca26\"],[1.0,\"#f0f921\"]],\"type\":\"histogram2d\"}],\"histogram2dcontour\":[{\"colorbar\":{\"outlinewidth\":0,\"ticks\":\"\"},\"colorscale\":[[0.0,\"#0d0887\"],[0.1111111111111111,\"#46039f\"],[0.2222222222222222,\"#7201a8\"],[0.3333333333333333,\"#9c179e\"],[0.4444444444444444,\"#bd3786\"],[0.5555555555555556,\"#d8576b\"],[0.6666666666666666,\"#ed7953\"],[0.7777777777777778,\"#fb9f3a\"],[0.8888888888888888,\"#fdca26\"],[1.0,\"#f0f921\"]],\"type\":\"histogram2dcontour\"}],\"mesh3d\":[{\"colorbar\":{\"outlinewidth\":0,\"ticks\":\"\"},\"type\":\"mesh3d\"}],\"parcoords\":[{\"line\":{\"colorbar\":{\"outlinewidth\":0,\"ticks\":\"\"}},\"type\":\"parcoords\"}],\"pie\":[{\"automargin\":true,\"type\":\"pie\"}],\"scatter\":[{\"marker\":{\"colorbar\":{\"outlinewidth\":0,\"ticks\":\"\"}},\"type\":\"scatter\"}],\"scatter3d\":[{\"line\":{\"colorbar\":{\"outlinewidth\":0,\"ticks\":\"\"}},\"marker\":{\"colorbar\":{\"outlinewidth\":0,\"ticks\":\"\"}},\"type\":\"scatter3d\"}],\"scattercarpet\":[{\"marker\":{\"colorbar\":{\"outlinewidth\":0,\"ticks\":\"\"}},\"type\":\"scattercarpet\"}],\"scattergeo\":[{\"marker\":{\"colorbar\":{\"outlinewidth\":0,\"ticks\":\"\"}},\"type\":\"scattergeo\"}],\"scattergl\":[{\"marker\":{\"colorbar\":{\"outlinewidth\":0,\"ticks\":\"\"}},\"type\":\"scattergl\"}],\"scattermapbox\":[{\"marker\":{\"colorbar\":{\"outlinewidth\":0,\"ticks\":\"\"}},\"type\":\"scattermapbox\"}],\"scatterpolar\":[{\"marker\":{\"colorbar\":{\"outlinewidth\":0,\"ticks\":\"\"}},\"type\":\"scatterpolar\"}],\"scatterpolargl\":[{\"marker\":{\"colorbar\":{\"outlinewidth\":0,\"ticks\":\"\"}},\"type\":\"scatterpolargl\"}],\"scatterternary\":[{\"marker\":{\"colorbar\":{\"outlinewidth\":0,\"ticks\":\"\"}},\"type\":\"scatterternary\"}],\"surface\":[{\"colorbar\":{\"outlinewidth\":0,\"ticks\":\"\"},\"colorscale\":[[0.0,\"#0d0887\"],[0.1111111111111111,\"#46039f\"],[0.2222222222222222,\"#7201a8\"],[0.3333333333333333,\"#9c179e\"],[0.4444444444444444,\"#bd3786\"],[0.5555555555555556,\"#d8576b\"],[0.6666666666666666,\"#ed7953\"],[0.7777777777777778,\"#fb9f3a\"],[0.8888888888888888,\"#fdca26\"],[1.0,\"#f0f921\"]],\"type\":\"surface\"}],\"table\":[{\"cells\":{\"fill\":{\"color\":\"#EBF0F8\"},\"line\":{\"color\":\"white\"}},\"header\":{\"fill\":{\"color\":\"#C8D4E3\"},\"line\":{\"color\":\"white\"}},\"type\":\"table\"}]},\"layout\":{\"annotationdefaults\":{\"arrowcolor\":\"#2a3f5f\",\"arrowhead\":0,\"arrowwidth\":1},\"autotypenumbers\":\"strict\",\"coloraxis\":{\"colorbar\":{\"outlinewidth\":0,\"ticks\":\"\"}},\"colorscale\":{\"diverging\":[[0,\"#8e0152\"],[0.1,\"#c51b7d\"],[0.2,\"#de77ae\"],[0.3,\"#f1b6da\"],[0.4,\"#fde0ef\"],[0.5,\"#f7f7f7\"],[0.6,\"#e6f5d0\"],[0.7,\"#b8e186\"],[0.8,\"#7fbc41\"],[0.9,\"#4d9221\"],[1,\"#276419\"]],\"sequential\":[[0.0,\"#0d0887\"],[0.1111111111111111,\"#46039f\"],[0.2222222222222222,\"#7201a8\"],[0.3333333333333333,\"#9c179e\"],[0.4444444444444444,\"#bd3786\"],[0.5555555555555556,\"#d8576b\"],[0.6666666666666666,\"#ed7953\"],[0.7777777777777778,\"#fb9f3a\"],[0.8888888888888888,\"#fdca26\"],[1.0,\"#f0f921\"]],\"sequentialminus\":[[0.0,\"#0d0887\"],[0.1111111111111111,\"#46039f\"],[0.2222222222222222,\"#7201a8\"],[0.3333333333333333,\"#9c179e\"],[0.4444444444444444,\"#bd3786\"],[0.5555555555555556,\"#d8576b\"],[0.6666666666666666,\"#ed7953\"],[0.7777777777777778,\"#fb9f3a\"],[0.8888888888888888,\"#fdca26\"],[1.0,\"#f0f921\"]]},\"colorway\":[\"#636efa\",\"#EF553B\",\"#00cc96\",\"#ab63fa\",\"#FFA15A\",\"#19d3f3\",\"#FF6692\",\"#B6E880\",\"#FF97FF\",\"#FECB52\"],\"font\":{\"color\":\"#2a3f5f\"},\"geo\":{\"bgcolor\":\"white\",\"lakecolor\":\"white\",\"landcolor\":\"#E5ECF6\",\"showlakes\":true,\"showland\":true,\"subunitcolor\":\"white\"},\"hoverlabel\":{\"align\":\"left\"},\"hovermode\":\"closest\",\"mapbox\":{\"style\":\"light\"},\"paper_bgcolor\":\"white\",\"plot_bgcolor\":\"#E5ECF6\",\"polar\":{\"angularaxis\":{\"gridcolor\":\"white\",\"linecolor\":\"white\",\"ticks\":\"\"},\"bgcolor\":\"#E5ECF6\",\"radialaxis\":{\"gridcolor\":\"white\",\"linecolor\":\"white\",\"ticks\":\"\"}},\"scene\":{\"xaxis\":{\"backgroundcolor\":\"#E5ECF6\",\"gridcolor\":\"white\",\"gridwidth\":2,\"linecolor\":\"white\",\"showbackground\":true,\"ticks\":\"\",\"zerolinecolor\":\"white\"},\"yaxis\":{\"backgroundcolor\":\"#E5ECF6\",\"gridcolor\":\"white\",\"gridwidth\":2,\"linecolor\":\"white\",\"showbackground\":true,\"ticks\":\"\",\"zerolinecolor\":\"white\"},\"zaxis\":{\"backgroundcolor\":\"#E5ECF6\",\"gridcolor\":\"white\",\"gridwidth\":2,\"linecolor\":\"white\",\"showbackground\":true,\"ticks\":\"\",\"zerolinecolor\":\"white\"}},\"shapedefaults\":{\"line\":{\"color\":\"#2a3f5f\"}},\"ternary\":{\"aaxis\":{\"gridcolor\":\"white\",\"linecolor\":\"white\",\"ticks\":\"\"},\"baxis\":{\"gridcolor\":\"white\",\"linecolor\":\"white\",\"ticks\":\"\"},\"bgcolor\":\"#E5ECF6\",\"caxis\":{\"gridcolor\":\"white\",\"linecolor\":\"white\",\"ticks\":\"\"}},\"title\":{\"x\":0.05},\"xaxis\":{\"automargin\":true,\"gridcolor\":\"white\",\"linecolor\":\"white\",\"ticks\":\"\",\"title\":{\"standoff\":15},\"zerolinecolor\":\"white\",\"zerolinewidth\":2},\"yaxis\":{\"automargin\":true,\"gridcolor\":\"white\",\"linecolor\":\"white\",\"ticks\":\"\",\"title\":{\"standoff\":15},\"zerolinecolor\":\"white\",\"zerolinewidth\":2}}},\"xaxis\":{\"anchor\":\"y\",\"domain\":[0.0,1.0],\"title\":{\"text\":\"Startup Name\"},\"categoryorder\":\"array\",\"categoryarray\":[\"French Crown\",\"Guardian Gears\",\"Raising Superstars\",\"PlayBoxTV\",\"Alpino\",\"Hammer Lifestyle\",\"Shades of Spring\",\"Tagz Foods\",\"Devnagri\",\"Moonshine\"]},\"yaxis\":{\"anchor\":\"x\",\"domain\":[0.0,1.0],\"title\":{\"text\":\"Yearly Revenue\"}},\"legend\":{\"title\":{\"text\":\"Startup Name\"},\"tracegroupgap\":0},\"title\":{\"text\":\"Highest Revenue of the pitches\"},\"barmode\":\"relative\"},                        {\"responsive\": true}                    ).then(function(){\n",
              "                            \n",
              "var gd = document.getElementById('7505c15e-634f-411c-8196-03a9342608b9');\n",
              "var x = new MutationObserver(function (mutations, observer) {{\n",
              "        var display = window.getComputedStyle(gd).display;\n",
              "        if (!display || display === 'none') {{\n",
              "            console.log([gd, 'removed!']);\n",
              "            Plotly.purge(gd);\n",
              "            observer.disconnect();\n",
              "        }}\n",
              "}});\n",
              "\n",
              "// Listen for the removal of the full notebook cells\n",
              "var notebookContainer = gd.closest('#notebook-container');\n",
              "if (notebookContainer) {{\n",
              "    x.observe(notebookContainer, {childList: true});\n",
              "}}\n",
              "\n",
              "// Listen for the clearing of the current output cell\n",
              "var outputEl = gd.closest('.output');\n",
              "if (outputEl) {{\n",
              "    x.observe(outputEl, {childList: true});\n",
              "}}\n",
              "\n",
              "                        })                };                            </script>        </div>\n",
              "</body>\n",
              "</html>"
            ]
          },
          "metadata": {}
        }
      ]
    },
    {
      "cell_type": "markdown",
      "source": [
        "Top 10 highest Gross Margin of different brands "
      ],
      "metadata": {
        "id": "7Wi4ucokTftC"
      }
    },
    {
      "cell_type": "code",
      "source": [
        "print(df1.groupby('Startup Name')['Gross Margin'].max().nlargest(10))\n",
        "\n",
        "tmpdf = df1.sort_values('Gross Margin', ascending = False)[0:10]\n",
        "fig = px.bar(tmpdf, x= 'Startup Name', y= 'Gross Margin', color = \"Startup Name\",\n",
        "             title = \"Highrst Gross Margin of the brands\", text = tmpdf['Gross Margin'].map(int).map(str) + '%')\n",
        "\n",
        "fig.show()"
      ],
      "metadata": {
        "colab": {
          "base_uri": "https://localhost:8080/",
          "height": 750
        },
        "id": "geeyUyJcTIiL",
        "outputId": "c112ce2e-630a-41f5-ebdc-0670bc441109"
      },
      "execution_count": 10,
      "outputs": [
        {
          "output_type": "stream",
          "name": "stdout",
          "text": [
            "Startup Name\n",
            "Poo-de-Cologne        150.0\n",
            "Farda                 115.0\n",
            "Cocofit                95.0\n",
            "Auli                   80.0\n",
            "Cos IQ                 75.0\n",
            "Thea and Sid           75.0\n",
            "Bummer                 70.0\n",
            "French Crown           70.0\n",
            "Moonshine              70.0\n",
            "Nomad Food Project     70.0\n",
            "Name: Gross Margin, dtype: float64\n"
          ]
        },
        {
          "output_type": "display_data",
          "data": {
            "text/html": [
              "<html>\n",
              "<head><meta charset=\"utf-8\" /></head>\n",
              "<body>\n",
              "    <div>            <script src=\"https://cdnjs.cloudflare.com/ajax/libs/mathjax/2.7.5/MathJax.js?config=TeX-AMS-MML_SVG\"></script><script type=\"text/javascript\">if (window.MathJax) {MathJax.Hub.Config({SVG: {font: \"STIX-Web\"}});}</script>                <script type=\"text/javascript\">window.PlotlyConfig = {MathJaxConfig: 'local'};</script>\n",
              "        <script src=\"https://cdn.plot.ly/plotly-2.8.3.min.js\"></script>                <div id=\"64a27b9f-8db7-41a2-8f45-e033ebb3e80e\" class=\"plotly-graph-div\" style=\"height:525px; width:100%;\"></div>            <script type=\"text/javascript\">                                    window.PLOTLYENV=window.PLOTLYENV || {};                                    if (document.getElementById(\"64a27b9f-8db7-41a2-8f45-e033ebb3e80e\")) {                    Plotly.newPlot(                        \"64a27b9f-8db7-41a2-8f45-e033ebb3e80e\",                        [{\"alignmentgroup\":\"True\",\"hovertemplate\":\"Startup Name=%{x}<br>Gross Margin=%{y}<br>text=%{text}<extra></extra>\",\"legendgroup\":\"Poo-de-Cologne\",\"marker\":{\"color\":\"#636efa\",\"pattern\":{\"shape\":\"\"}},\"name\":\"Poo-de-Cologne\",\"offsetgroup\":\"Poo-de-Cologne\",\"orientation\":\"v\",\"showlegend\":true,\"text\":[\"150%\"],\"textposition\":\"auto\",\"x\":[\"Poo-de-Cologne\"],\"xaxis\":\"x\",\"y\":[150.0],\"yaxis\":\"y\",\"type\":\"bar\"},{\"alignmentgroup\":\"True\",\"hovertemplate\":\"Startup Name=%{x}<br>Gross Margin=%{y}<br>text=%{text}<extra></extra>\",\"legendgroup\":\"Farda\",\"marker\":{\"color\":\"#EF553B\",\"pattern\":{\"shape\":\"\"}},\"name\":\"Farda\",\"offsetgroup\":\"Farda\",\"orientation\":\"v\",\"showlegend\":true,\"text\":[\"115%\"],\"textposition\":\"auto\",\"x\":[\"Farda\"],\"xaxis\":\"x\",\"y\":[115.0],\"yaxis\":\"y\",\"type\":\"bar\"},{\"alignmentgroup\":\"True\",\"hovertemplate\":\"Startup Name=%{x}<br>Gross Margin=%{y}<br>text=%{text}<extra></extra>\",\"legendgroup\":\"Cocofit\",\"marker\":{\"color\":\"#00cc96\",\"pattern\":{\"shape\":\"\"}},\"name\":\"Cocofit\",\"offsetgroup\":\"Cocofit\",\"orientation\":\"v\",\"showlegend\":true,\"text\":[\"95%\"],\"textposition\":\"auto\",\"x\":[\"Cocofit\"],\"xaxis\":\"x\",\"y\":[95.0],\"yaxis\":\"y\",\"type\":\"bar\"},{\"alignmentgroup\":\"True\",\"hovertemplate\":\"Startup Name=%{x}<br>Gross Margin=%{y}<br>text=%{text}<extra></extra>\",\"legendgroup\":\"Auli\",\"marker\":{\"color\":\"#ab63fa\",\"pattern\":{\"shape\":\"\"}},\"name\":\"Auli\",\"offsetgroup\":\"Auli\",\"orientation\":\"v\",\"showlegend\":true,\"text\":[\"80%\"],\"textposition\":\"auto\",\"x\":[\"Auli\"],\"xaxis\":\"x\",\"y\":[80.0],\"yaxis\":\"y\",\"type\":\"bar\"},{\"alignmentgroup\":\"True\",\"hovertemplate\":\"Startup Name=%{x}<br>Gross Margin=%{y}<br>text=%{text}<extra></extra>\",\"legendgroup\":\"Thea and Sid\",\"marker\":{\"color\":\"#FFA15A\",\"pattern\":{\"shape\":\"\"}},\"name\":\"Thea and Sid\",\"offsetgroup\":\"Thea and Sid\",\"orientation\":\"v\",\"showlegend\":true,\"text\":[\"75%\"],\"textposition\":\"auto\",\"x\":[\"Thea and Sid\"],\"xaxis\":\"x\",\"y\":[75.0],\"yaxis\":\"y\",\"type\":\"bar\"},{\"alignmentgroup\":\"True\",\"hovertemplate\":\"Startup Name=%{x}<br>Gross Margin=%{y}<br>text=%{text}<extra></extra>\",\"legendgroup\":\"Cos IQ\",\"marker\":{\"color\":\"#19d3f3\",\"pattern\":{\"shape\":\"\"}},\"name\":\"Cos IQ\",\"offsetgroup\":\"Cos IQ\",\"orientation\":\"v\",\"showlegend\":true,\"text\":[\"75%\"],\"textposition\":\"auto\",\"x\":[\"Cos IQ\"],\"xaxis\":\"x\",\"y\":[75.0],\"yaxis\":\"y\",\"type\":\"bar\"},{\"alignmentgroup\":\"True\",\"hovertemplate\":\"Startup Name=%{x}<br>Gross Margin=%{y}<br>text=%{text}<extra></extra>\",\"legendgroup\":\"Moonshine\",\"marker\":{\"color\":\"#FF6692\",\"pattern\":{\"shape\":\"\"}},\"name\":\"Moonshine\",\"offsetgroup\":\"Moonshine\",\"orientation\":\"v\",\"showlegend\":true,\"text\":[\"70%\"],\"textposition\":\"auto\",\"x\":[\"Moonshine\"],\"xaxis\":\"x\",\"y\":[70.0],\"yaxis\":\"y\",\"type\":\"bar\"},{\"alignmentgroup\":\"True\",\"hovertemplate\":\"Startup Name=%{x}<br>Gross Margin=%{y}<br>text=%{text}<extra></extra>\",\"legendgroup\":\"Nomad Food Project\",\"marker\":{\"color\":\"#B6E880\",\"pattern\":{\"shape\":\"\"}},\"name\":\"Nomad Food Project\",\"offsetgroup\":\"Nomad Food Project\",\"orientation\":\"v\",\"showlegend\":true,\"text\":[\"70%\"],\"textposition\":\"auto\",\"x\":[\"Nomad Food Project\"],\"xaxis\":\"x\",\"y\":[70.0],\"yaxis\":\"y\",\"type\":\"bar\"},{\"alignmentgroup\":\"True\",\"hovertemplate\":\"Startup Name=%{x}<br>Gross Margin=%{y}<br>text=%{text}<extra></extra>\",\"legendgroup\":\"French Crown\",\"marker\":{\"color\":\"#FF97FF\",\"pattern\":{\"shape\":\"\"}},\"name\":\"French Crown\",\"offsetgroup\":\"French Crown\",\"orientation\":\"v\",\"showlegend\":true,\"text\":[\"70%\"],\"textposition\":\"auto\",\"x\":[\"French Crown\"],\"xaxis\":\"x\",\"y\":[70.0],\"yaxis\":\"y\",\"type\":\"bar\"},{\"alignmentgroup\":\"True\",\"hovertemplate\":\"Startup Name=%{x}<br>Gross Margin=%{y}<br>text=%{text}<extra></extra>\",\"legendgroup\":\"Bummer\",\"marker\":{\"color\":\"#FECB52\",\"pattern\":{\"shape\":\"\"}},\"name\":\"Bummer\",\"offsetgroup\":\"Bummer\",\"orientation\":\"v\",\"showlegend\":true,\"text\":[\"70%\"],\"textposition\":\"auto\",\"x\":[\"Bummer\"],\"xaxis\":\"x\",\"y\":[70.0],\"yaxis\":\"y\",\"type\":\"bar\"}],                        {\"template\":{\"data\":{\"bar\":[{\"error_x\":{\"color\":\"#2a3f5f\"},\"error_y\":{\"color\":\"#2a3f5f\"},\"marker\":{\"line\":{\"color\":\"#E5ECF6\",\"width\":0.5},\"pattern\":{\"fillmode\":\"overlay\",\"size\":10,\"solidity\":0.2}},\"type\":\"bar\"}],\"barpolar\":[{\"marker\":{\"line\":{\"color\":\"#E5ECF6\",\"width\":0.5},\"pattern\":{\"fillmode\":\"overlay\",\"size\":10,\"solidity\":0.2}},\"type\":\"barpolar\"}],\"carpet\":[{\"aaxis\":{\"endlinecolor\":\"#2a3f5f\",\"gridcolor\":\"white\",\"linecolor\":\"white\",\"minorgridcolor\":\"white\",\"startlinecolor\":\"#2a3f5f\"},\"baxis\":{\"endlinecolor\":\"#2a3f5f\",\"gridcolor\":\"white\",\"linecolor\":\"white\",\"minorgridcolor\":\"white\",\"startlinecolor\":\"#2a3f5f\"},\"type\":\"carpet\"}],\"choropleth\":[{\"colorbar\":{\"outlinewidth\":0,\"ticks\":\"\"},\"type\":\"choropleth\"}],\"contour\":[{\"colorbar\":{\"outlinewidth\":0,\"ticks\":\"\"},\"colorscale\":[[0.0,\"#0d0887\"],[0.1111111111111111,\"#46039f\"],[0.2222222222222222,\"#7201a8\"],[0.3333333333333333,\"#9c179e\"],[0.4444444444444444,\"#bd3786\"],[0.5555555555555556,\"#d8576b\"],[0.6666666666666666,\"#ed7953\"],[0.7777777777777778,\"#fb9f3a\"],[0.8888888888888888,\"#fdca26\"],[1.0,\"#f0f921\"]],\"type\":\"contour\"}],\"contourcarpet\":[{\"colorbar\":{\"outlinewidth\":0,\"ticks\":\"\"},\"type\":\"contourcarpet\"}],\"heatmap\":[{\"colorbar\":{\"outlinewidth\":0,\"ticks\":\"\"},\"colorscale\":[[0.0,\"#0d0887\"],[0.1111111111111111,\"#46039f\"],[0.2222222222222222,\"#7201a8\"],[0.3333333333333333,\"#9c179e\"],[0.4444444444444444,\"#bd3786\"],[0.5555555555555556,\"#d8576b\"],[0.6666666666666666,\"#ed7953\"],[0.7777777777777778,\"#fb9f3a\"],[0.8888888888888888,\"#fdca26\"],[1.0,\"#f0f921\"]],\"type\":\"heatmap\"}],\"heatmapgl\":[{\"colorbar\":{\"outlinewidth\":0,\"ticks\":\"\"},\"colorscale\":[[0.0,\"#0d0887\"],[0.1111111111111111,\"#46039f\"],[0.2222222222222222,\"#7201a8\"],[0.3333333333333333,\"#9c179e\"],[0.4444444444444444,\"#bd3786\"],[0.5555555555555556,\"#d8576b\"],[0.6666666666666666,\"#ed7953\"],[0.7777777777777778,\"#fb9f3a\"],[0.8888888888888888,\"#fdca26\"],[1.0,\"#f0f921\"]],\"type\":\"heatmapgl\"}],\"histogram\":[{\"marker\":{\"pattern\":{\"fillmode\":\"overlay\",\"size\":10,\"solidity\":0.2}},\"type\":\"histogram\"}],\"histogram2d\":[{\"colorbar\":{\"outlinewidth\":0,\"ticks\":\"\"},\"colorscale\":[[0.0,\"#0d0887\"],[0.1111111111111111,\"#46039f\"],[0.2222222222222222,\"#7201a8\"],[0.3333333333333333,\"#9c179e\"],[0.4444444444444444,\"#bd3786\"],[0.5555555555555556,\"#d8576b\"],[0.6666666666666666,\"#ed7953\"],[0.7777777777777778,\"#fb9f3a\"],[0.8888888888888888,\"#fdca26\"],[1.0,\"#f0f921\"]],\"type\":\"histogram2d\"}],\"histogram2dcontour\":[{\"colorbar\":{\"outlinewidth\":0,\"ticks\":\"\"},\"colorscale\":[[0.0,\"#0d0887\"],[0.1111111111111111,\"#46039f\"],[0.2222222222222222,\"#7201a8\"],[0.3333333333333333,\"#9c179e\"],[0.4444444444444444,\"#bd3786\"],[0.5555555555555556,\"#d8576b\"],[0.6666666666666666,\"#ed7953\"],[0.7777777777777778,\"#fb9f3a\"],[0.8888888888888888,\"#fdca26\"],[1.0,\"#f0f921\"]],\"type\":\"histogram2dcontour\"}],\"mesh3d\":[{\"colorbar\":{\"outlinewidth\":0,\"ticks\":\"\"},\"type\":\"mesh3d\"}],\"parcoords\":[{\"line\":{\"colorbar\":{\"outlinewidth\":0,\"ticks\":\"\"}},\"type\":\"parcoords\"}],\"pie\":[{\"automargin\":true,\"type\":\"pie\"}],\"scatter\":[{\"marker\":{\"colorbar\":{\"outlinewidth\":0,\"ticks\":\"\"}},\"type\":\"scatter\"}],\"scatter3d\":[{\"line\":{\"colorbar\":{\"outlinewidth\":0,\"ticks\":\"\"}},\"marker\":{\"colorbar\":{\"outlinewidth\":0,\"ticks\":\"\"}},\"type\":\"scatter3d\"}],\"scattercarpet\":[{\"marker\":{\"colorbar\":{\"outlinewidth\":0,\"ticks\":\"\"}},\"type\":\"scattercarpet\"}],\"scattergeo\":[{\"marker\":{\"colorbar\":{\"outlinewidth\":0,\"ticks\":\"\"}},\"type\":\"scattergeo\"}],\"scattergl\":[{\"marker\":{\"colorbar\":{\"outlinewidth\":0,\"ticks\":\"\"}},\"type\":\"scattergl\"}],\"scattermapbox\":[{\"marker\":{\"colorbar\":{\"outlinewidth\":0,\"ticks\":\"\"}},\"type\":\"scattermapbox\"}],\"scatterpolar\":[{\"marker\":{\"colorbar\":{\"outlinewidth\":0,\"ticks\":\"\"}},\"type\":\"scatterpolar\"}],\"scatterpolargl\":[{\"marker\":{\"colorbar\":{\"outlinewidth\":0,\"ticks\":\"\"}},\"type\":\"scatterpolargl\"}],\"scatterternary\":[{\"marker\":{\"colorbar\":{\"outlinewidth\":0,\"ticks\":\"\"}},\"type\":\"scatterternary\"}],\"surface\":[{\"colorbar\":{\"outlinewidth\":0,\"ticks\":\"\"},\"colorscale\":[[0.0,\"#0d0887\"],[0.1111111111111111,\"#46039f\"],[0.2222222222222222,\"#7201a8\"],[0.3333333333333333,\"#9c179e\"],[0.4444444444444444,\"#bd3786\"],[0.5555555555555556,\"#d8576b\"],[0.6666666666666666,\"#ed7953\"],[0.7777777777777778,\"#fb9f3a\"],[0.8888888888888888,\"#fdca26\"],[1.0,\"#f0f921\"]],\"type\":\"surface\"}],\"table\":[{\"cells\":{\"fill\":{\"color\":\"#EBF0F8\"},\"line\":{\"color\":\"white\"}},\"header\":{\"fill\":{\"color\":\"#C8D4E3\"},\"line\":{\"color\":\"white\"}},\"type\":\"table\"}]},\"layout\":{\"annotationdefaults\":{\"arrowcolor\":\"#2a3f5f\",\"arrowhead\":0,\"arrowwidth\":1},\"autotypenumbers\":\"strict\",\"coloraxis\":{\"colorbar\":{\"outlinewidth\":0,\"ticks\":\"\"}},\"colorscale\":{\"diverging\":[[0,\"#8e0152\"],[0.1,\"#c51b7d\"],[0.2,\"#de77ae\"],[0.3,\"#f1b6da\"],[0.4,\"#fde0ef\"],[0.5,\"#f7f7f7\"],[0.6,\"#e6f5d0\"],[0.7,\"#b8e186\"],[0.8,\"#7fbc41\"],[0.9,\"#4d9221\"],[1,\"#276419\"]],\"sequential\":[[0.0,\"#0d0887\"],[0.1111111111111111,\"#46039f\"],[0.2222222222222222,\"#7201a8\"],[0.3333333333333333,\"#9c179e\"],[0.4444444444444444,\"#bd3786\"],[0.5555555555555556,\"#d8576b\"],[0.6666666666666666,\"#ed7953\"],[0.7777777777777778,\"#fb9f3a\"],[0.8888888888888888,\"#fdca26\"],[1.0,\"#f0f921\"]],\"sequentialminus\":[[0.0,\"#0d0887\"],[0.1111111111111111,\"#46039f\"],[0.2222222222222222,\"#7201a8\"],[0.3333333333333333,\"#9c179e\"],[0.4444444444444444,\"#bd3786\"],[0.5555555555555556,\"#d8576b\"],[0.6666666666666666,\"#ed7953\"],[0.7777777777777778,\"#fb9f3a\"],[0.8888888888888888,\"#fdca26\"],[1.0,\"#f0f921\"]]},\"colorway\":[\"#636efa\",\"#EF553B\",\"#00cc96\",\"#ab63fa\",\"#FFA15A\",\"#19d3f3\",\"#FF6692\",\"#B6E880\",\"#FF97FF\",\"#FECB52\"],\"font\":{\"color\":\"#2a3f5f\"},\"geo\":{\"bgcolor\":\"white\",\"lakecolor\":\"white\",\"landcolor\":\"#E5ECF6\",\"showlakes\":true,\"showland\":true,\"subunitcolor\":\"white\"},\"hoverlabel\":{\"align\":\"left\"},\"hovermode\":\"closest\",\"mapbox\":{\"style\":\"light\"},\"paper_bgcolor\":\"white\",\"plot_bgcolor\":\"#E5ECF6\",\"polar\":{\"angularaxis\":{\"gridcolor\":\"white\",\"linecolor\":\"white\",\"ticks\":\"\"},\"bgcolor\":\"#E5ECF6\",\"radialaxis\":{\"gridcolor\":\"white\",\"linecolor\":\"white\",\"ticks\":\"\"}},\"scene\":{\"xaxis\":{\"backgroundcolor\":\"#E5ECF6\",\"gridcolor\":\"white\",\"gridwidth\":2,\"linecolor\":\"white\",\"showbackground\":true,\"ticks\":\"\",\"zerolinecolor\":\"white\"},\"yaxis\":{\"backgroundcolor\":\"#E5ECF6\",\"gridcolor\":\"white\",\"gridwidth\":2,\"linecolor\":\"white\",\"showbackground\":true,\"ticks\":\"\",\"zerolinecolor\":\"white\"},\"zaxis\":{\"backgroundcolor\":\"#E5ECF6\",\"gridcolor\":\"white\",\"gridwidth\":2,\"linecolor\":\"white\",\"showbackground\":true,\"ticks\":\"\",\"zerolinecolor\":\"white\"}},\"shapedefaults\":{\"line\":{\"color\":\"#2a3f5f\"}},\"ternary\":{\"aaxis\":{\"gridcolor\":\"white\",\"linecolor\":\"white\",\"ticks\":\"\"},\"baxis\":{\"gridcolor\":\"white\",\"linecolor\":\"white\",\"ticks\":\"\"},\"bgcolor\":\"#E5ECF6\",\"caxis\":{\"gridcolor\":\"white\",\"linecolor\":\"white\",\"ticks\":\"\"}},\"title\":{\"x\":0.05},\"xaxis\":{\"automargin\":true,\"gridcolor\":\"white\",\"linecolor\":\"white\",\"ticks\":\"\",\"title\":{\"standoff\":15},\"zerolinecolor\":\"white\",\"zerolinewidth\":2},\"yaxis\":{\"automargin\":true,\"gridcolor\":\"white\",\"linecolor\":\"white\",\"ticks\":\"\",\"title\":{\"standoff\":15},\"zerolinecolor\":\"white\",\"zerolinewidth\":2}}},\"xaxis\":{\"anchor\":\"y\",\"domain\":[0.0,1.0],\"title\":{\"text\":\"Startup Name\"},\"categoryorder\":\"array\",\"categoryarray\":[\"Poo-de-Cologne\",\"Farda\",\"Cocofit\",\"Auli\",\"Thea and Sid\",\"Cos IQ\",\"Moonshine\",\"Nomad Food Project\",\"French Crown\",\"Bummer\"]},\"yaxis\":{\"anchor\":\"x\",\"domain\":[0.0,1.0],\"title\":{\"text\":\"Gross Margin\"}},\"legend\":{\"title\":{\"text\":\"Startup Name\"},\"tracegroupgap\":0},\"title\":{\"text\":\"Highrst Gross Margin of the brands\"},\"barmode\":\"relative\"},                        {\"responsive\": true}                    ).then(function(){\n",
              "                            \n",
              "var gd = document.getElementById('64a27b9f-8db7-41a2-8f45-e033ebb3e80e');\n",
              "var x = new MutationObserver(function (mutations, observer) {{\n",
              "        var display = window.getComputedStyle(gd).display;\n",
              "        if (!display || display === 'none') {{\n",
              "            console.log([gd, 'removed!']);\n",
              "            Plotly.purge(gd);\n",
              "            observer.disconnect();\n",
              "        }}\n",
              "}});\n",
              "\n",
              "// Listen for the removal of the full notebook cells\n",
              "var notebookContainer = gd.closest('#notebook-container');\n",
              "if (notebookContainer) {{\n",
              "    x.observe(notebookContainer, {childList: true});\n",
              "}}\n",
              "\n",
              "// Listen for the clearing of the current output cell\n",
              "var outputEl = gd.closest('.output');\n",
              "if (outputEl) {{\n",
              "    x.observe(outputEl, {childList: true});\n",
              "}}\n",
              "\n",
              "                        })                };                            </script>        </div>\n",
              "</body>\n",
              "</html>"
            ]
          },
          "metadata": {}
        }
      ]
    },
    {
      "cell_type": "markdown",
      "source": [
        "How many accepted or rejected shark offers?"
      ],
      "metadata": {
        "id": "bXnRWH3RU2Z_"
      }
    },
    {
      "cell_type": "code",
      "source": [
        "print(round(df1['Received Offer'].value_counts(normalize = True)*100).astype(str).str.replace('.0','%'),'\\n')\n",
        "sns.countplot(x = 'Received Offer', data = df1, palette ='deep')"
      ],
      "metadata": {
        "colab": {
          "base_uri": "https://localhost:8080/",
          "height": 366
        },
        "id": "BkPkPKtZU1w6",
        "outputId": "35e7f3ac-abbf-40e7-ba40-34f1a590d38c"
      },
      "execution_count": 11,
      "outputs": [
        {
          "output_type": "stream",
          "name": "stdout",
          "text": [
            "1    73%\n",
            "0    27%\n",
            "Name: Received Offer, dtype: object \n",
            "\n"
          ]
        },
        {
          "output_type": "execute_result",
          "data": {
            "text/plain": [
              "<matplotlib.axes._subplots.AxesSubplot at 0x7fee10df6550>"
            ]
          },
          "metadata": {},
          "execution_count": 11
        },
        {
          "output_type": "display_data",
          "data": {
            "text/plain": [
              "<Figure size 432x288 with 1 Axes>"
            ],
            "image/png": "[encoded data removed]"
          },
          "metadata": {
            "needs_background": "light"
          }
        }
      ]
    },
    {
      "cell_type": "markdown",
      "source": [
        "73% vcompanies accepted the offer while the remaining 27% could not convince the sharks to make an offer "
      ],
      "metadata": {
        "id": "-WvprRgBWx8i"
      }
    },
    {
      "cell_type": "code",
      "source": [
        "print(round(df1['Accepted Offer'].value_counts(normalize = True)*100).astype(str).str.replace('.0','%'),\"/n\")\n",
        "sns.countplot(x='Accepted Offer', data = df1, palette =\"viridis\")"
      ],
      "metadata": {
        "colab": {
          "base_uri": "https://localhost:8080/",
          "height": 351
        },
        "id": "_VPriK6NUT2E",
        "outputId": "217d60ff-e69a-4799-fe41-7b192432f98b"
      },
      "execution_count": 12,
      "outputs": [
        {
          "output_type": "stream",
          "name": "stdout",
          "text": [
            "1.0    76%\n",
            "0.0    24%\n",
            "Name: Accepted Offer, dtype: object /n\n"
          ]
        },
        {
          "output_type": "execute_result",
          "data": {
            "text/plain": [
              "<matplotlib.axes._subplots.AxesSubplot at 0x7fee10af9250>"
            ]
          },
          "metadata": {},
          "execution_count": 12
        },
        {
          "output_type": "display_data",
          "data": {
            "text/plain": [
              "<Figure size 432x288 with 1 Axes>"
            ],
            "image/png": "[encoded data removed]"
          },
          "metadata": {
            "needs_background": "light"
          }
        }
      ]
    },
    {
      "cell_type": "markdown",
      "source": [
        "Start up companies who rejected sharks offer "
      ],
      "metadata": {
        "id": "mb9lbYf8X057"
      }
    },
    {
      "cell_type": "code",
      "source": [
        "df1.loc[df1['Accepted Offer']==0, [\"Startup Name\", \"Original Ask Amount\", \"Original Ask Equity\", \"Valuation Requested\",\n",
        "                                   \"Valuation Offered\"]]"
      ],
      "metadata": {
        "colab": {
          "base_uri": "https://localhost:8080/",
          "height": 708
        },
        "id": "tGSW-J5EX0fp",
        "outputId": "49bfee4d-3525-4ca9-aa48-69c40ccce352"
      },
      "execution_count": 13,
      "outputs": [
        {
          "output_type": "execute_result",
          "data": {
            "text/plain": [
              "            Startup Name  Original Ask Amount  Original Ask Equity  \\\n",
              "6            qZense Labs                100.0                 0.25   \n",
              "19              Torch-it                 75.0                 1.00   \n",
              "20         La Kheer Deli                 50.0                 7.50   \n",
              "26        Kabira Handmad                100.0                 5.00   \n",
              "40    Morriko Pure Foods                100.0                 3.00   \n",
              "54     India Hemp and Co                 50.0                 4.00   \n",
              "59            Keto India                150.0                 1.25   \n",
              "69             Moonshine                 80.0                 0.50   \n",
              "70               Falhari                 50.0                 2.00   \n",
              "72          Urban Monkey                100.0                 1.00   \n",
              "73        Guardian Gears                 30.0                 5.00   \n",
              "80                Alpino                150.0                 2.00   \n",
              "86   Aliste Technologies                 60.0                 5.00   \n",
              "92            PDD Falcon                 75.0                 3.00   \n",
              "93             PlayBoxTV                100.0                 3.50   \n",
              "103       ExperentialEtc                200.0                 4.00   \n",
              "105          C3 Med-Tech                 35.0                 6.00   \n",
              "112        Green Protein                 60.0                 2.00   \n",
              "115                Woloo                 50.0                 4.00   \n",
              "118         French Crown                150.0                 0.33   \n",
              "120             Devnagri                100.0                 1.00   \n",
              "\n",
              "     Valuation Requested  Valuation Offered  \n",
              "6                  40000                NaN  \n",
              "19                  7500                NaN  \n",
              "20                   667                NaN  \n",
              "26                  2000                NaN  \n",
              "40                  3333                NaN  \n",
              "54                  1250                NaN  \n",
              "59                 12000                NaN  \n",
              "69                 16000                NaN  \n",
              "70                  2500                NaN  \n",
              "72                 10000                NaN  \n",
              "73                   600                NaN  \n",
              "80                  7500                NaN  \n",
              "86                  1200                NaN  \n",
              "92                  2500                NaN  \n",
              "93                  2857                NaN  \n",
              "103                 5000                NaN  \n",
              "105                  583                NaN  \n",
              "112                 3000                NaN  \n",
              "115                 1250                NaN  \n",
              "118                45455                NaN  \n",
              "120                10000                NaN  "
            ],
            "text/html": [
              "\n",
              "  <div id=\"df-197713ab-689f-4674-ad30-1a31a61d24db\">\n",
              "    <div class=\"colab-df-container\">\n",
              "      <div>\n",
              "<style scoped>\n",
              "    .dataframe tbody tr th:only-of-type {\n",
              "        vertical-align: middle;\n",
              "    }\n",
              "\n",
              "    .dataframe tbody tr th {\n",
              "        vertical-align: top;\n",
              "    }\n",
              "\n",
              "    .dataframe thead th {\n",
              "        text-align: right;\n",
              "    }\n",
              "</style>\n",
              "<table border=\"1\" class=\"dataframe\">\n",
              "  <thead>\n",
              "    <tr style=\"text-align: right;\">\n",
              "      <th></th>\n",
              "      <th>Startup Name</th>\n",
              "      <th>Original Ask Amount</th>\n",
              "      <th>Original Ask Equity</th>\n",
              "      <th>Valuation Requested</th>\n",
              "      <th>Valuation Offered</th>\n",
              "    </tr>\n",
              "  </thead>\n",
              "  <tbody>\n",
              "    <tr>\n",
              "      <th>6</th>\n",
              "      <td>qZense Labs</td>\n",
              "      <td>100.0</td>\n",
              "      <td>0.25</td>\n",
              "      <td>40000</td>\n",
              "      <td>NaN</td>\n",
              "    </tr>\n",
              "    <tr>\n",
              "      <th>19</th>\n",
              "      <td>Torch-it</td>\n",
              "      <td>75.0</td>\n",
              "      <td>1.00</td>\n",
              "      <td>7500</td>\n",
              "      <td>NaN</td>\n",
              "    </tr>\n",
              "    <tr>\n",
              "      <th>20</th>\n",
              "      <td>La Kheer Deli</td>\n",
              "      <td>50.0</td>\n",
              "      <td>7.50</td>\n",
              "      <td>667</td>\n",
              "      <td>NaN</td>\n",
              "    </tr>\n",
              "    <tr>\n",
              "      <th>26</th>\n",
              "      <td>Kabira Handmad</td>\n",
              "      <td>100.0</td>\n",
              "      <td>5.00</td>\n",
              "      <td>2000</td>\n",
              "      <td>NaN</td>\n",
              "    </tr>\n",
              "    <tr>\n",
              "      <th>40</th>\n",
              "      <td>Morriko Pure Foods</td>\n",
              "      <td>100.0</td>\n",
              "      <td>3.00</td>\n",
              "      <td>3333</td>\n",
              "      <td>NaN</td>\n",
              "    </tr>\n",
              "    <tr>\n",
              "      <th>54</th>\n",
              "      <td>India Hemp and Co</td>\n",
              "      <td>50.0</td>\n",
              "      <td>4.00</td>\n",
              "      <td>1250</td>\n",
              "      <td>NaN</td>\n",
              "    </tr>\n",
              "    <tr>\n",
              "      <th>59</th>\n",
              "      <td>Keto India</td>\n",
              "      <td>150.0</td>\n",
              "      <td>1.25</td>\n",
              "      <td>12000</td>\n",
              "      <td>NaN</td>\n",
              "    </tr>\n",
              "    <tr>\n",
              "      <th>69</th>\n",
              "      <td>Moonshine</td>\n",
              "      <td>80.0</td>\n",
              "      <td>0.50</td>\n",
              "      <td>16000</td>\n",
              "      <td>NaN</td>\n",
              "    </tr>\n",
              "    <tr>\n",
              "      <th>70</th>\n",
              "      <td>Falhari</td>\n",
              "      <td>50.0</td>\n",
              "      <td>2.00</td>\n",
              "      <td>2500</td>\n",
              "      <td>NaN</td>\n",
              "    </tr>\n",
              "    <tr>\n",
              "      <th>72</th>\n",
              "      <td>Urban Monkey</td>\n",
              "      <td>100.0</td>\n",
              "      <td>1.00</td>\n",
              "      <td>10000</td>\n",
              "      <td>NaN</td>\n",
              "    </tr>\n",
              "    <tr>\n",
              "      <th>73</th>\n",
              "      <td>Guardian Gears</td>\n",
              "      <td>30.0</td>\n",
              "      <td>5.00</td>\n",
              "      <td>600</td>\n",
              "      <td>NaN</td>\n",
              "    </tr>\n",
              "    <tr>\n",
              "      <th>80</th>\n",
              "      <td>Alpino</td>\n",
              "      <td>150.0</td>\n",
              "      <td>2.00</td>\n",
              "      <td>7500</td>\n",
              "      <td>NaN</td>\n",
              "    </tr>\n",
              "    <tr>\n",
              "      <th>86</th>\n",
              "      <td>Aliste Technologies</td>\n",
              "      <td>60.0</td>\n",
              "      <td>5.00</td>\n",
              "      <td>1200</td>\n",
              "      <td>NaN</td>\n",
              "    </tr>\n",
              "    <tr>\n",
              "      <th>92</th>\n",
              "      <td>PDD Falcon</td>\n",
              "      <td>75.0</td>\n",
              "      <td>3.00</td>\n",
              "      <td>2500</td>\n",
              "      <td>NaN</td>\n",
              "    </tr>\n",
              "    <tr>\n",
              "      <th>93</th>\n",
              "      <td>PlayBoxTV</td>\n",
              "      <td>100.0</td>\n",
              "      <td>3.50</td>\n",
              "      <td>2857</td>\n",
              "      <td>NaN</td>\n",
              "    </tr>\n",
              "    <tr>\n",
              "      <th>103</th>\n",
              "      <td>ExperentialEtc</td>\n",
              "      <td>200.0</td>\n",
              "      <td>4.00</td>\n",
              "      <td>5000</td>\n",
              "      <td>NaN</td>\n",
              "    </tr>\n",
              "    <tr>\n",
              "      <th>105</th>\n",
              "      <td>C3 Med-Tech</td>\n",
              "      <td>35.0</td>\n",
              "      <td>6.00</td>\n",
              "      <td>583</td>\n",
              "      <td>NaN</td>\n",
              "    </tr>\n",
              "    <tr>\n",
              "      <th>112</th>\n",
              "      <td>Green Protein</td>\n",
              "      <td>60.0</td>\n",
              "      <td>2.00</td>\n",
              "      <td>3000</td>\n",
              "      <td>NaN</td>\n",
              "    </tr>\n",
              "    <tr>\n",
              "      <th>115</th>\n",
              "      <td>Woloo</td>\n",
              "      <td>50.0</td>\n",
              "      <td>4.00</td>\n",
              "      <td>1250</td>\n",
              "      <td>NaN</td>\n",
              "    </tr>\n",
              "    <tr>\n",
              "      <th>118</th>\n",
              "      <td>French Crown</td>\n",
              "      <td>150.0</td>\n",
              "      <td>0.33</td>\n",
              "      <td>45455</td>\n",
              "      <td>NaN</td>\n",
              "    </tr>\n",
              "    <tr>\n",
              "      <th>120</th>\n",
              "      <td>Devnagri</td>\n",
              "      <td>100.0</td>\n",
              "      <td>1.00</td>\n",
              "      <td>10000</td>\n",
              "      <td>NaN</td>\n",
              "    </tr>\n",
              "  </tbody>\n",
              "</table>\n",
              "</div>\n",
              "      <button class=\"colab-df-convert\" onclick=\"convertToInteractive('df-197713ab-689f-4674-ad30-1a31a61d24db')\"\n",
              "              title=\"Convert this dataframe to an interactive table.\"\n",
              "              style=\"display:none;\">\n",
              "        \n",
              "  <svg xmlns=\"http://www.w3.org/2000/svg\" height=\"24px\"viewBox=\"0 0 24 24\"\n",
              "       width=\"24px\">\n",
              "    <path d=\"M0 0h24v24H0V0z\" fill=\"none\"/>\n",
              "    <path d=\"M18.56 5.44l.94 2.06.94-2.06 2.06-.94-2.06-.94-.94-2.06-.94 2.06-2.06.94zm-11 1L8.5 8.5l.94-2.06 2.06-.94-2.06-.94L8.5 2.5l-.94 2.06-2.06.94zm10 10l.94 2.06.94-2.06 2.06-.94-2.06-.94-.94-2.06-.94 2.06-2.06.94z\"/><path d=\"M17.41 7.96l-1.37-1.37c-.4-.4-.92-.59-1.43-.59-.52 0-1.04.2-1.43.59L10.3 9.45l-7.72 7.72c-.78.78-.78 2.05 0 2.83L4 21.41c.39.39.9.59 1.41.59.51 0 1.02-.2 1.41-.59l7.78-7.78 2.81-2.81c.8-.78.8-2.07 0-2.86zM5.41 20L4 18.59l7.72-7.72 1.47 1.35L5.41 20z\"/>\n",
              "  </svg>\n",
              "      </button>\n",
              "      \n",
              "  <style>\n",
              "    .colab-df-container {\n",
              "      display:flex;\n",
              "      flex-wrap:wrap;\n",
              "      gap: 12px;\n",
              "    }\n",
              "\n",
              "    .colab-df-convert {\n",
              "      background-color: #E8F0FE;\n",
              "      border: none;\n",
              "      border-radius: 50%;\n",
              "      cursor: pointer;\n",
              "      display: none;\n",
              "      fill: #1967D2;\n",
              "      height: 32px;\n",
              "      padding: 0 0 0 0;\n",
              "      width: 32px;\n",
              "    }\n",
              "\n",
              "    .colab-df-convert:hover {\n",
              "      background-color: #E2EBFA;\n",
              "      box-shadow: 0px 1px 2px rgba(60, 64, 67, 0.3), 0px 1px 3px 1px rgba(60, 64, 67, 0.15);\n",
              "      fill: #174EA6;\n",
              "    }\n",
              "\n",
              "    [theme=dark] .colab-df-convert {\n",
              "      background-color: #3B4455;\n",
              "      fill: #D2E3FC;\n",
              "    }\n",
              "\n",
              "    [theme=dark] .colab-df-convert:hover {\n",
              "      background-color: #434B5C;\n",
              "      box-shadow: 0px 1px 3px 1px rgba(0, 0, 0, 0.15);\n",
              "      filter: drop-shadow(0px 1px 2px rgba(0, 0, 0, 0.3));\n",
              "      fill: #FFFFFF;\n",
              "    }\n",
              "  </style>\n",
              "\n",
              "      <script>\n",
              "        const buttonEl =\n",
              "          document.querySelector('#df-197713ab-689f-4674-ad30-1a31a61d24db button.colab-df-convert');\n",
              "        buttonEl.style.display =\n",
              "          google.colab.kernel.accessAllowed ? 'block' : 'none';\n",
              "\n",
              "        async function convertToInteractive(key) {\n",
              "          const element = document.querySelector('#df-197713ab-689f-4674-ad30-1a31a61d24db');\n",
              "          const dataTable =\n",
              "            await google.colab.kernel.invokeFunction('convertToInteractive',\n",
              "                                                     [key], {});\n",
              "          if (!dataTable) return;\n",
              "\n",
              "          const docLinkHtml = 'Like what you see? Visit the ' +\n",
              "            '<a target=\"_blank\" href=https://colab.research.google.com/notebooks/data_table.ipynb>data table notebook</a>'\n",
              "            + ' to learn more about interactive tables.';\n",
              "          element.innerHTML = '';\n",
              "          dataTable['output_type'] = 'display_data';\n",
              "          await google.colab.output.renderOutput(dataTable, element);\n",
              "          const docLink = document.createElement('div');\n",
              "          docLink.innerHTML = docLinkHtml;\n",
              "          element.appendChild(docLink);\n",
              "        }\n",
              "      </script>\n",
              "    </div>\n",
              "  </div>\n",
              "  "
            ]
          },
          "metadata": {},
          "execution_count": 13
        }
      ]
    },
    {
      "cell_type": "markdown",
      "source": [
        "Industry wise Investments By different sharks "
      ],
      "metadata": {
        "id": "FuFuZjIoY7lC"
      }
    },
    {
      "cell_type": "code",
      "source": [
        "print(df1[df1['Ashneer Investment Amount']>0]['Industry'].value_counts().sort_values (ascending=False))\n",
        "df1[df1['Ashneer Investment Amount']>0]['Industry'].value_counts().sort_values(ascending = False).plot.pie(autopct='%1.2f%%')\n",
        "plt.show()"
      ],
      "metadata": {
        "colab": {
          "base_uri": "https://localhost:8080/",
          "height": 404
        },
        "id": "jEviJBFoXqka",
        "outputId": "ce81a76f-535c-45ba-ed19-ced4799842d7"
      },
      "execution_count": 14,
      "outputs": [
        {
          "output_type": "stream",
          "name": "stdout",
          "text": [
            "Food                   8\n",
            "Electrical Vehicles    3\n",
            "Education              3\n",
            "Manufacturing          2\n",
            "Beauty/Fashion         2\n",
            "Animal/Pets            1\n",
            "Sports                 1\n",
            "Technology             1\n",
            "Name: Industry, dtype: int64\n"
          ]
        },
        {
          "output_type": "display_data",
          "data": {
            "text/plain": [
              "<Figure size 432x288 with 1 Axes>"
            ],
            "image/png": "[encoded data removed]"
          },
          "metadata": {}
        }
      ]
    },
    {
      "cell_type": "markdown",
      "source": [
        "Number of Sharks in a deal \n"
      ],
      "metadata": {
        "id": "r4Pf_IL5hp5m"
      }
    },
    {
      "cell_type": "code",
      "source": [
        "print(round(df1['Number of sharks in deal'].value_counts(normalize= True)*100).astype(str).str.replace('.0','%'))\n",
        "sns.countplot(data = df1, x = 'Number of sharks in deal')\n",
        "print('The deals where more than or equal of 5 sharks ae involved')\n",
        "print(df1.loc[df1['Number of sharks in deal']>=5][[\"Startup Name\", \"Total Deal Amount\", \"Total Deal Equity\"]])"
      ],
      "metadata": {
        "colab": {
          "base_uri": "https://localhost:8080/",
          "height": 487
        },
        "id": "jukSuNo4hhXZ",
        "outputId": "ade9d1c5-17ee-43b6-f6ad-4d31696414a3"
      },
      "execution_count": 15,
      "outputs": [
        {
          "output_type": "stream",
          "name": "stdout",
          "text": [
            "1.0    33%\n",
            "2.0    31%\n",
            "3.0    22%\n",
            "4.0     7%\n",
            "5.0     6%\n",
            "Name: Number of sharks in deal, dtype: object\n",
            "The deals where more than or equal of 5 sharks ae involved\n",
            "             Startup Name  Total Deal Amount  Total Deal Equity\n",
            "15        Skippi Ice Pops              100.0               15.0\n",
            "49  Find Your Kicks India               50.0               25.0\n",
            "63               IN A CAN              100.0               10.0\n",
            "79    Sunfox Technologies              100.0                6.0\n"
          ]
        },
        {
          "output_type": "display_data",
          "data": {
            "text/plain": [
              "<Figure size 432x288 with 1 Axes>"
            ],
            "image/png": "[encoded data removed]"
          },
          "metadata": {
            "needs_background": "light"
          }
        }
      ]
    },
    {
      "cell_type": "code",
      "source": [
        "print(format_currency(df1['Total Deal Amount'].sum()/100,'USD',locale = 'en_IN').replace('.00',''),'crores')"
      ],
      "metadata": {
        "colab": {
          "base_uri": "https://localhost:8080/",
          "height": 0
        },
        "id": "zRGhptpaiwwR",
        "outputId": "11a96c5f-4d73-4a10-cbd9-b9dee6220b6e"
      },
      "execution_count": 16,
      "outputs": [
        {
          "output_type": "stream",
          "name": "stdout",
          "text": [
            "$39.03 crores\n"
          ]
        }
      ]
    },
    {
      "cell_type": "code",
      "source": [
        "Amount = [df1['Ashneer Investment Amount'].sum(), df1['Namita Investment Amount'].sum(), df1['Anupam Investment Amount'].sum(),df1['Vineeta Investment Amount'].sum(),\n",
        "          df1['Aman Investment Amount'].sum(), df1['Peyush Investment Amount'].sum(),df1['Ghazal Investment Amount'].sum()]\n",
        "name = ['Ashneer','Namita','Anupam', 'Vineeta', 'Aman','Peyush','Ghazal']\n",
        "df = {'Name':name, 'Total Amount': Amount}\n",
        "plt.figure(figsize=(10,4))\n",
        "plt.bar(df['Name'], df['Total Amount'])\n",
        "plt.xticks(fontsize=15)\n",
        "plt.ylabel(\"Total Investment Amount\", fontsize = 15)\n",
        "for index, d in enumerate(Amount):\n",
        "  plt.text(x=index, y= d+2, s=f\"{round(d,2)}\", ha = 'center', fontdict = dict(fontsize =12))\n",
        "plt.title(\"Total Investment Amount by sharks\", fontsize = 15)\n",
        "plt.show()\n",
        "\n",
        "         \n"
      ],
      "metadata": {
        "colab": {
          "base_uri": "https://localhost:8080/",
          "height": 288
        },
        "id": "sjp9oEIkkh-S",
        "outputId": "d87d7e1d-5d8d-4bcf-8e8f-56ea541f2fd3"
      },
      "execution_count": 34,
      "outputs": [
        {
          "output_type": "display_data",
          "data": {
            "text/plain": [
              "<Figure size 720x288 with 1 Axes>"
            ],
            "image/png": "[encoded data removed]"
          },
          "metadata": {
            "needs_background": "light"
          }
        }
      ]
    },
    {
      "cell_type": "code",
      "source": [
        "print(format_currency(df1['Total Deal Debt'].sum()/100,'USD',locale = 'en_IN').replace('.00',''),'crores')"
      ],
      "metadata": {
        "id": "Ub02y4IrlF0Y",
        "colab": {
          "base_uri": "https://localhost:8080/",
          "height": 0
        },
        "outputId": "93ede0bd-27f2-493f-9154-25be6b5845e2"
      },
      "execution_count": 35,
      "outputs": [
        {
          "output_type": "stream",
          "name": "stdout",
          "text": [
            "$3.51 crores\n"
          ]
        }
      ]
    },
    {
      "cell_type": "markdown",
      "source": [
        "Total Equity Received By Sharks "
      ],
      "metadata": {
        "id": "aS3HNKXpKWM8"
      }
    },
    {
      "cell_type": "code",
      "source": [
        "Equity = [df1['Ashneer Investment Equity'].sum(), df1['Namita Investment Equity'].sum(), df1['Anupam Investment Equity'].sum(), df1['Vineeta Investment Equity'].sum(),\n",
        "          df1['Aman Investment Equity'].sum(), df1['Peyush Investment Equity'].sum(),\n",
        "          df1['Ghazal Investment Equity'].sum()]\n",
        "df = {'Name': name, 'Total Equity': Equity}\n",
        "plt.figure(figsize =(10,4))\n",
        "plt.bar(df['Name'], df['Total Equity'])\n",
        "plt.xticks(fontsize=15)\n",
        "plt.ylabel(\"Total Equity Amount\", fontsize = 15)\n",
        "for index, d in enumerate(Amount):\n",
        "  plt.text(x=index, y= d+2, s=f\"{round(d,2)}\", ha = 'center', fontdict = dict(fontsize =12))\n",
        "plt.title(\"Total Equity received by sharks\", fontsize = 15)\n",
        "plt.show()"
      ],
      "metadata": {
        "colab": {
          "base_uri": "https://localhost:8080/",
          "height": 647
        },
        "id": "bspCuOdeKcgX",
        "outputId": "d3ceac28-f776-4305-b188-d60b49aab2d6"
      },
      "execution_count": 41,
      "outputs": [
        {
          "output_type": "display_data",
          "data": {
            "text/plain": [
              "<Figure size 720x288 with 1 Axes>"
            ],
            "image/png": "[encoded data removed]"
          },
          "metadata": {
            "needs_background": "light"
          }
        }
      ]
    },
    {
      "cell_type": "markdown",
      "source": [
        "Companies who got the same valuation as they requested "
      ],
      "metadata": {
        "id": "zQd3TzUqLvec"
      }
    },
    {
      "cell_type": "markdown",
      "source": [
        "Some Comanies were on pre revenue or didnt had any revenue "
      ],
      "metadata": {
        "id": "l2bkdLCHO_Yy"
      }
    },
    {
      "cell_type": "code",
      "source": [
        "df2 = df1.loc[df1['Yearly Revenue']==0]\n",
        "print(df2['Startup Name'])"
      ],
      "metadata": {
        "colab": {
          "base_uri": "https://localhost:8080/",
          "height": 0
        },
        "id": "jm_Ci_jeO-5C",
        "outputId": "f832b2ee-61ba-406f-80c3-905bc9598bcd"
      },
      "execution_count": 50,
      "outputs": [
        {
          "output_type": "stream",
          "name": "stdout",
          "text": [
            "23        Motion Breeze\n",
            "41      Good Good Piggy\n",
            "82     Julaa Automation\n",
            "97             Scholify\n",
            "99           Sabjikothi\n",
            "113             On2Cook\n",
            "Name: Startup Name, dtype: object\n"
          ]
        }
      ]
    }
  ]
}